{
 "cells": [
  {
   "cell_type": "markdown",
   "metadata": {},
   "source": [
    "В приложенном файле 3 датасета:\n",
    "\n",
    "1. Данные треков - Richtracks (описание приложено)\n",
    "2. Данные точек этих треков - IncomingTrackPoints (описание также приложено)\n",
    "3. Наборы токен-платформа (iOS или Android)\n",
    "\n",
    "Задание:\n",
    "\n",
    "1. Некоторые параметры набора точек для трека имеют различную размерность в зависимости от платформы (iOS или Android) - какие это параметры?\n",
    "2. Переведите все параметры в одинаковую размерность\n",
    "3. В richtracks для каждого трека есть поле TrackOrigin, которое описывает кем была произведена поездка: владельцем смартфона или нет. \n",
    "\n",
    "Задание: постройте модель, предсказывающую на основании данных из входящих точек, была ли поездка пассажирской или нет."
   ]
  },
  {
   "cell_type": "markdown",
   "metadata": {},
   "source": [
    "## 1. Некоторые параметры набора точек для трека имеют различную размерность в зависимости от платформы (iOS или Android) - какие это параметры?"
   ]
  },
  {
   "cell_type": "markdown",
   "metadata": {},
   "source": [
    "1. Подключим библиотеки.\n",
    "2. Загрузим все файлы и соединим их, добавив бинарную переменную, показывающую была ли совершена поездка пассажиром.\n",
    "3. Посмотрим на данные и поймём, где проблемы с размерностью"
   ]
  },
  {
   "cell_type": "code",
   "execution_count": 1,
   "metadata": {},
   "outputs": [],
   "source": [
    "import numpy as np\n",
    "import pandas as pd\n",
    "import pandas_profiling #pandas profiling library\n",
    "import pandasql as ps #library to use sql with pandas df\n",
    "import matplotlib.pyplot as plt\n",
    "import seaborn as sns #ploting library\n",
    "sns.set(style=\"ticks\", color_codes=True)\n",
    "%matplotlib inline\n",
    "\n",
    "from sklearn import metrics\n",
    "from sklearn import ensemble\n",
    "from sklearn.linear_model import LogisticRegression\n",
    "from sklearn.metrics import classification_report, accuracy_score\n",
    "from sklearn.metrics import roc_auc_score, roc_curve, confusion_matrix\n",
    "from sklearn.preprocessing import StandardScaler\n",
    "from sklearn.datasets import fetch_20newsgroups, load_files\n",
    "from sklearn.model_selection import train_test_split #used to split dataset into train and test randomly\n",
    "from sklearn.model_selection import cross_val_score, StratifiedKFold, GridSearchCV\n",
    "\n",
    "import warnings\n",
    "warnings.filterwarnings('ignore')"
   ]
  },
  {
   "cell_type": "code",
   "execution_count": 2,
   "metadata": {},
   "outputs": [],
   "source": [
    "inc_points = pd.read_csv('inc_points_2.csv')\n",
    "rich_tracks = pd.read_csv('rich_tracks_2.csv')\n",
    "os_data = pd.read_csv('os.csv')"
   ]
  },
  {
   "cell_type": "code",
   "execution_count": 3,
   "metadata": {},
   "outputs": [],
   "source": [
    "q1 = \"\"\"SELECT case when TrackOrigin == 'Passanger' then 1 else 0 end ispassanger, inc_points.*, rich_tracks.*, os_data.*\n",
    "        FROM inc_points join rich_tracks on inc_points.incomingtrackid=rich_tracks.incomingtrackid\n",
    "                        join os_data on rich_tracks.DeviceToken=os_data.DeviceToken\n",
    "     \"\"\"\n",
    "my_t = ps.sqldf(q1, locals())"
   ]
  },
  {
   "cell_type": "code",
   "execution_count": 4,
   "metadata": {},
   "outputs": [],
   "source": [
    "#duplicate columns remover:\n",
    "my_t = my_t.loc[:,~my_t.columns.duplicated()]"
   ]
  },
  {
   "cell_type": "code",
   "execution_count": 5,
   "metadata": {},
   "outputs": [],
   "source": [
    "cols_in_inc_points = list(inc_points.columns.values)\n",
    "cols_in_rich_tracks = list(rich_tracks.columns.values)\n",
    "cols_in_os_data = list(os_data.columns.values)\n",
    "cols_to_analize = cols_in_inc_points + [\"TrackOrigin\"] + [\"ispassanger\"]"
   ]
  },
  {
   "cell_type": "code",
   "execution_count": 6,
   "metadata": {},
   "outputs": [
    {
     "data": {
      "text/html": [
       "<div>\n",
       "<style scoped>\n",
       "    .dataframe tbody tr th:only-of-type {\n",
       "        vertical-align: middle;\n",
       "    }\n",
       "\n",
       "    .dataframe tbody tr th {\n",
       "        vertical-align: top;\n",
       "    }\n",
       "\n",
       "    .dataframe thead th {\n",
       "        text-align: right;\n",
       "    }\n",
       "</style>\n",
       "<table border=\"1\" class=\"dataframe\">\n",
       "  <thead>\n",
       "    <tr style=\"text-align: right;\">\n",
       "      <th></th>\n",
       "      <th>ispassanger</th>\n",
       "      <th>IncomingTrackId</th>\n",
       "      <th>Speed</th>\n",
       "      <th>Latitude</th>\n",
       "      <th>Longitude</th>\n",
       "      <th>PointDate</th>\n",
       "      <th>Height</th>\n",
       "      <th>Acceleration</th>\n",
       "      <th>Deceleration</th>\n",
       "      <th>TickTimestamp</th>\n",
       "      <th>...</th>\n",
       "      <th>AccelerationICount</th>\n",
       "      <th>DecelerationICount</th>\n",
       "      <th>AccelerationIDuration</th>\n",
       "      <th>DecelerationIDuration</th>\n",
       "      <th>RatingCornering</th>\n",
       "      <th>VehicleId</th>\n",
       "      <th>BeaconId</th>\n",
       "      <th>DeviationRatio</th>\n",
       "      <th>DeviationMeters</th>\n",
       "      <th>os_version</th>\n",
       "    </tr>\n",
       "  </thead>\n",
       "  <tbody>\n",
       "    <tr>\n",
       "      <th>2287060</th>\n",
       "      <td>0</td>\n",
       "      <td>20658432</td>\n",
       "      <td>2.160000</td>\n",
       "      <td>60.775667</td>\n",
       "      <td>28.807924</td>\n",
       "      <td>2019-10-17 11:23:16.0000000 +03:00</td>\n",
       "      <td>17538.0</td>\n",
       "      <td>0.0</td>\n",
       "      <td>0.0</td>\n",
       "      <td>1571300675</td>\n",
       "      <td>...</td>\n",
       "      <td>0.0</td>\n",
       "      <td>0.0</td>\n",
       "      <td>0.0</td>\n",
       "      <td>0.0</td>\n",
       "      <td>NaN</td>\n",
       "      <td>None</td>\n",
       "      <td>None</td>\n",
       "      <td>0.0</td>\n",
       "      <td>27.444747</td>\n",
       "      <td>iOS</td>\n",
       "    </tr>\n",
       "    <tr>\n",
       "      <th>880595</th>\n",
       "      <td>0</td>\n",
       "      <td>20681388</td>\n",
       "      <td>61.608958</td>\n",
       "      <td>57.985000</td>\n",
       "      <td>56.184080</td>\n",
       "      <td>2019-10-17 15:56:52.0000000 +05:00</td>\n",
       "      <td>130000.0</td>\n",
       "      <td>0.0</td>\n",
       "      <td>0.0</td>\n",
       "      <td>1571309814</td>\n",
       "      <td>...</td>\n",
       "      <td>69.0</td>\n",
       "      <td>144.0</td>\n",
       "      <td>100.0</td>\n",
       "      <td>153.0</td>\n",
       "      <td>NaN</td>\n",
       "      <td>None</td>\n",
       "      <td>None</td>\n",
       "      <td>0.0</td>\n",
       "      <td>8.002551</td>\n",
       "      <td>iOS</td>\n",
       "    </tr>\n",
       "    <tr>\n",
       "      <th>2198014</th>\n",
       "      <td>0</td>\n",
       "      <td>20704584</td>\n",
       "      <td>0.020737</td>\n",
       "      <td>53.711947</td>\n",
       "      <td>-6.361111</td>\n",
       "      <td>2019-10-17 10:37:42.0000000 +02:00</td>\n",
       "      <td>33590.0</td>\n",
       "      <td>0.0</td>\n",
       "      <td>0.0</td>\n",
       "      <td>1571301521</td>\n",
       "      <td>...</td>\n",
       "      <td>2.0</td>\n",
       "      <td>91.0</td>\n",
       "      <td>7.0</td>\n",
       "      <td>108.0</td>\n",
       "      <td>NaN</td>\n",
       "      <td>None</td>\n",
       "      <td>None</td>\n",
       "      <td>0.0</td>\n",
       "      <td>5.455781</td>\n",
       "      <td>iOS</td>\n",
       "    </tr>\n",
       "    <tr>\n",
       "      <th>1944093</th>\n",
       "      <td>0</td>\n",
       "      <td>20671479</td>\n",
       "      <td>18.560119</td>\n",
       "      <td>-31.898344</td>\n",
       "      <td>115.825460</td>\n",
       "      <td>2019-10-17 17:26:26.0000000 +08:00</td>\n",
       "      <td>34063.0</td>\n",
       "      <td>0.0</td>\n",
       "      <td>0.0</td>\n",
       "      <td>1571304387</td>\n",
       "      <td>...</td>\n",
       "      <td>0.0</td>\n",
       "      <td>338.0</td>\n",
       "      <td>0.0</td>\n",
       "      <td>366.0</td>\n",
       "      <td>5.0</td>\n",
       "      <td>None</td>\n",
       "      <td>None</td>\n",
       "      <td>0.0</td>\n",
       "      <td>6.146293</td>\n",
       "      <td>iOS</td>\n",
       "    </tr>\n",
       "  </tbody>\n",
       "</table>\n",
       "<p>4 rows × 77 columns</p>\n",
       "</div>"
      ],
      "text/plain": [
       "         ispassanger  IncomingTrackId      Speed   Latitude   Longitude  \\\n",
       "2287060            0         20658432   2.160000  60.775667   28.807924   \n",
       "880595             0         20681388  61.608958  57.985000   56.184080   \n",
       "2198014            0         20704584   0.020737  53.711947   -6.361111   \n",
       "1944093            0         20671479  18.560119 -31.898344  115.825460   \n",
       "\n",
       "                                  PointDate    Height  Acceleration  \\\n",
       "2287060  2019-10-17 11:23:16.0000000 +03:00   17538.0           0.0   \n",
       "880595   2019-10-17 15:56:52.0000000 +05:00  130000.0           0.0   \n",
       "2198014  2019-10-17 10:37:42.0000000 +02:00   33590.0           0.0   \n",
       "1944093  2019-10-17 17:26:26.0000000 +08:00   34063.0           0.0   \n",
       "\n",
       "         Deceleration  TickTimestamp  ...  AccelerationICount  \\\n",
       "2287060           0.0     1571300675  ...                 0.0   \n",
       "880595            0.0     1571309814  ...                69.0   \n",
       "2198014           0.0     1571301521  ...                 2.0   \n",
       "1944093           0.0     1571304387  ...                 0.0   \n",
       "\n",
       "         DecelerationICount  AccelerationIDuration  DecelerationIDuration  \\\n",
       "2287060                 0.0                    0.0                    0.0   \n",
       "880595                144.0                  100.0                  153.0   \n",
       "2198014                91.0                    7.0                  108.0   \n",
       "1944093               338.0                    0.0                  366.0   \n",
       "\n",
       "        RatingCornering VehicleId BeaconId DeviationRatio  DeviationMeters  \\\n",
       "2287060             NaN      None     None            0.0        27.444747   \n",
       "880595              NaN      None     None            0.0         8.002551   \n",
       "2198014             NaN      None     None            0.0         5.455781   \n",
       "1944093             5.0      None     None            0.0         6.146293   \n",
       "\n",
       "         os_version  \n",
       "2287060         iOS  \n",
       "880595          iOS  \n",
       "2198014         iOS  \n",
       "1944093         iOS  \n",
       "\n",
       "[4 rows x 77 columns]"
      ]
     },
     "execution_count": 6,
     "metadata": {},
     "output_type": "execute_result"
    }
   ],
   "source": [
    "my_t.sample(round(my_t.shape[0]*0.000001))"
   ]
  },
  {
   "cell_type": "code",
   "execution_count": 7,
   "metadata": {},
   "outputs": [
    {
     "data": {
      "image/png": "[encoded data removed]",
      "text/plain": [
       "<Figure size 432x288 with 1 Axes>"
      ]
     },
     "metadata": {
      "needs_background": "light"
     },
     "output_type": "display_data"
    }
   ],
   "source": [
    "my_t['os_version'].value_counts().plot.barh();"
   ]
  },
  {
   "cell_type": "code",
   "execution_count": 8,
   "metadata": {},
   "outputs": [
    {
     "data": {
      "text/plain": [
       "<matplotlib.axes._subplots.AxesSubplot at 0x14c16bcdbe0>"
      ]
     },
     "execution_count": 8,
     "metadata": {},
     "output_type": "execute_result"
    },
    {
     "data": {
      "image/png": "[encoded data removed]",
      "text/plain": [
       "<Figure size 432x288 with 1 Axes>"
      ]
     },
     "metadata": {
      "needs_background": "light"
     },
     "output_type": "display_data"
    }
   ],
   "source": [
    "sns.boxplot(x=\"os_version\", y=\"Speed\", data=my_t)"
   ]
  },
  {
   "cell_type": "code",
   "execution_count": 9,
   "metadata": {},
   "outputs": [
    {
     "data": {
      "text/plain": [
       "<matplotlib.axes._subplots.AxesSubplot at 0x14c3b9ee908>"
      ]
     },
     "execution_count": 9,
     "metadata": {},
     "output_type": "execute_result"
    },
    {
     "data": {
      "image/png": "[encoded data removed]",
      "text/plain": [
       "<Figure size 432x288 with 1 Axes>"
      ]
     },
     "metadata": {
      "needs_background": "light"
     },
     "output_type": "display_data"
    }
   ],
   "source": [
    "sns.boxplot(x=\"os_version\", y=\"Latitude\", data=my_t)"
   ]
  },
  {
   "cell_type": "code",
   "execution_count": 10,
   "metadata": {},
   "outputs": [
    {
     "data": {
      "text/plain": [
       "<matplotlib.axes._subplots.AxesSubplot at 0x14c3c3460f0>"
      ]
     },
     "execution_count": 10,
     "metadata": {},
     "output_type": "execute_result"
    },
    {
     "data": {
      "image/png": "[encoded data removed]",
      "text/plain": [
       "<Figure size 432x288 with 1 Axes>"
      ]
     },
     "metadata": {
      "needs_background": "light"
     },
     "output_type": "display_data"
    }
   ],
   "source": [
    "sns.boxplot(x=\"os_version\", y=\"Longitude\", data=my_t)"
   ]
  },
  {
   "cell_type": "code",
   "execution_count": 11,
   "metadata": {},
   "outputs": [
    {
     "data": {
      "text/plain": [
       "<matplotlib.axes._subplots.AxesSubplot at 0x14c3f135518>"
      ]
     },
     "execution_count": 11,
     "metadata": {},
     "output_type": "execute_result"
    },
    {
     "data": {
      "image/png": "[encoded data removed]",
      "text/plain": [
       "<Figure size 432x288 with 1 Axes>"
      ]
     },
     "metadata": {
      "needs_background": "light"
     },
     "output_type": "display_data"
    }
   ],
   "source": [
    "sns.boxplot(x=\"os_version\", y=\"Acceleration\", data=my_t)"
   ]
  },
  {
   "cell_type": "code",
   "execution_count": 12,
   "metadata": {},
   "outputs": [
    {
     "data": {
      "text/plain": [
       "<matplotlib.axes._subplots.AxesSubplot at 0x14dc7e22cc0>"
      ]
     },
     "execution_count": 12,
     "metadata": {},
     "output_type": "execute_result"
    },
    {
     "data": {
      "image/png": "[encoded data removed]",
      "text/plain": [
       "<Figure size 432x288 with 1 Axes>"
      ]
     },
     "metadata": {
      "needs_background": "light"
     },
     "output_type": "display_data"
    }
   ],
   "source": [
    "sns.boxplot(x=\"os_version\", y=\"Deceleration\", data=my_t)"
   ]
  },
  {
   "cell_type": "code",
   "execution_count": 13,
   "metadata": {},
   "outputs": [
    {
     "data": {
      "text/plain": [
       "<matplotlib.axes._subplots.AxesSubplot at 0x14c92f460b8>"
      ]
     },
     "execution_count": 13,
     "metadata": {},
     "output_type": "execute_result"
    },
    {
     "data": {
      "image/png": "[encoded data removed]",
      "text/plain": [
       "<Figure size 432x288 with 1 Axes>"
      ]
     },
     "metadata": {
      "needs_background": "light"
     },
     "output_type": "display_data"
    }
   ],
   "source": [
    "sns.boxplot(x=\"os_version\", y=\"TickTimestamp\", data=my_t)"
   ]
  },
  {
   "cell_type": "code",
   "execution_count": 14,
   "metadata": {},
   "outputs": [
    {
     "data": {
      "text/plain": [
       "<matplotlib.axes._subplots.AxesSubplot at 0x14e14637c88>"
      ]
     },
     "execution_count": 14,
     "metadata": {},
     "output_type": "execute_result"
    },
    {
     "data": {
      "image/png": "[encoded data removed]",
      "text/plain": [
       "<Figure size 432x288 with 1 Axes>"
      ]
     },
     "metadata": {
      "needs_background": "light"
     },
     "output_type": "display_data"
    }
   ],
   "source": [
    "sns.boxplot(x=\"os_version\", y=\"AccelerationXOriginal\", data=my_t)"
   ]
  },
  {
   "cell_type": "code",
   "execution_count": 15,
   "metadata": {},
   "outputs": [
    {
     "data": {
      "text/plain": [
       "<matplotlib.axes._subplots.AxesSubplot at 0x14e18d592b0>"
      ]
     },
     "execution_count": 15,
     "metadata": {},
     "output_type": "execute_result"
    },
    {
     "data": {
      "image/png": "[encoded data removed]",
      "text/plain": [
       "<Figure size 432x288 with 1 Axes>"
      ]
     },
     "metadata": {
      "needs_background": "light"
     },
     "output_type": "display_data"
    }
   ],
   "source": [
    "sns.boxplot(x=\"os_version\", y=\"AccelerationYOriginal\", data=my_t)"
   ]
  },
  {
   "cell_type": "code",
   "execution_count": 16,
   "metadata": {},
   "outputs": [
    {
     "data": {
      "text/plain": [
       "<matplotlib.axes._subplots.AxesSubplot at 0x14e35323438>"
      ]
     },
     "execution_count": 16,
     "metadata": {},
     "output_type": "execute_result"
    },
    {
     "data": {
      "image/png": "[encoded data removed]",
      "text/plain": [
       "<Figure size 432x288 with 1 Axes>"
      ]
     },
     "metadata": {
      "needs_background": "light"
     },
     "output_type": "display_data"
    }
   ],
   "source": [
    "sns.boxplot(x=\"os_version\", y=\"AccelerationZOriginal\", data=my_t)"
   ]
  },
  {
   "cell_type": "markdown",
   "metadata": {},
   "source": [
    "All values that represent acceleration look like they have different dimentions in different OS."
   ]
  },
  {
   "cell_type": "markdown",
   "metadata": {},
   "source": [
    "## 2. Переведите все параметры в одинаковую размерность"
   ]
  },
  {
   "cell_type": "markdown",
   "metadata": {},
   "source": [
    "1. Посмотрим на коррелирующие признаки и отбросим те, которые могут помешать модели\n",
    "2. Нормализуем численные признаки"
   ]
  },
  {
   "cell_type": "code",
   "execution_count": 17,
   "metadata": {},
   "outputs": [
    {
     "name": "stdout",
     "output_type": "stream",
     "text": [
      "['IncomingTrackId', 'Speed', 'Latitude', 'Longitude', 'PointDate', 'Height', 'Acceleration', 'Deceleration', 'TickTimestamp', 'AccelerationXOriginal', 'AccelerationYOriginal', 'AccelerationZOriginal', 'TrackOrigin', 'ispassanger']\n"
     ]
    }
   ],
   "source": [
    "print(cols_to_analize)"
   ]
  },
  {
   "cell_type": "code",
   "execution_count": 18,
   "metadata": {},
   "outputs": [],
   "source": [
    "my_t = my_t[cols_to_analize]"
   ]
  },
  {
   "cell_type": "code",
   "execution_count": 52,
   "metadata": {},
   "outputs": [
    {
     "ename": "KeyboardInterrupt",
     "evalue": "",
     "output_type": "error",
     "traceback": [
      "\u001b[1;31m---------------------------------------------------------------------------\u001b[0m",
      "\u001b[1;31mKeyboardInterrupt\u001b[0m                         Traceback (most recent call last)",
      "\u001b[1;32m<ipython-input-52-80c5314b4116>\u001b[0m in \u001b[0;36m<module>\u001b[1;34m\u001b[0m\n\u001b[1;32m----> 1\u001b[1;33m \u001b[0mpandas_profiling\u001b[0m\u001b[1;33m.\u001b[0m\u001b[0mProfileReport\u001b[0m\u001b[1;33m(\u001b[0m\u001b[0mmy_t\u001b[0m\u001b[1;33m.\u001b[0m\u001b[0msample\u001b[0m\u001b[1;33m(\u001b[0m\u001b[0mround\u001b[0m\u001b[1;33m(\u001b[0m\u001b[0mmy_t\u001b[0m\u001b[1;33m.\u001b[0m\u001b[0mshape\u001b[0m\u001b[1;33m[\u001b[0m\u001b[1;36m0\u001b[0m\u001b[1;33m]\u001b[0m\u001b[1;33m*\u001b[0m\u001b[1;36m0.01\u001b[0m\u001b[1;33m)\u001b[0m\u001b[1;33m)\u001b[0m\u001b[1;33m)\u001b[0m\u001b[1;33m\u001b[0m\u001b[1;33m\u001b[0m\u001b[0m\n\u001b[0m\u001b[0;32m      2\u001b[0m \u001b[0mprofile\u001b[0m\u001b[1;33m.\u001b[0m\u001b[0mto_file\u001b[0m\u001b[1;33m(\u001b[0m\u001b[0moutput_file\u001b[0m\u001b[1;33m=\u001b[0m\u001b[1;34m\"output.html\"\u001b[0m\u001b[1;33m)\u001b[0m\u001b[1;33m\u001b[0m\u001b[1;33m\u001b[0m\u001b[0m\n",
      "\u001b[1;32mC:\\ProgramData\\Anaconda3\\lib\\site-packages\\pandas_profiling\\__init__.py\u001b[0m in \u001b[0;36m__init__\u001b[1;34m(self, df, minimal, config_file, **kwargs)\u001b[0m\n\u001b[0;32m     67\u001b[0m \u001b[1;33m\u001b[0m\u001b[0m\n\u001b[0;32m     68\u001b[0m         \u001b[1;31m# Get dataset statistics\u001b[0m\u001b[1;33m\u001b[0m\u001b[1;33m\u001b[0m\u001b[1;33m\u001b[0m\u001b[0m\n\u001b[1;32m---> 69\u001b[1;33m         \u001b[0mdescription_set\u001b[0m \u001b[1;33m=\u001b[0m \u001b[0mdescribe_df\u001b[0m\u001b[1;33m(\u001b[0m\u001b[0mdf\u001b[0m\u001b[1;33m)\u001b[0m\u001b[1;33m\u001b[0m\u001b[1;33m\u001b[0m\u001b[0m\n\u001b[0m\u001b[0;32m     70\u001b[0m \u001b[1;33m\u001b[0m\u001b[0m\n\u001b[0;32m     71\u001b[0m         \u001b[1;31m# Build report structure\u001b[0m\u001b[1;33m\u001b[0m\u001b[1;33m\u001b[0m\u001b[1;33m\u001b[0m\u001b[0m\n",
      "\u001b[1;32mC:\\ProgramData\\Anaconda3\\lib\\site-packages\\pandas_profiling\\model\\describe.py\u001b[0m in \u001b[0;36mdescribe\u001b[1;34m(df)\u001b[0m\n\u001b[0;32m    524\u001b[0m         \u001b[1;32mwith\u001b[0m \u001b[0mmultiprocessing\u001b[0m\u001b[1;33m.\u001b[0m\u001b[0mpool\u001b[0m\u001b[1;33m.\u001b[0m\u001b[0mThreadPool\u001b[0m\u001b[1;33m(\u001b[0m\u001b[0mpool_size\u001b[0m\u001b[1;33m)\u001b[0m \u001b[1;32mas\u001b[0m \u001b[0mexecutor\u001b[0m\u001b[1;33m:\u001b[0m\u001b[1;33m\u001b[0m\u001b[1;33m\u001b[0m\u001b[0m\n\u001b[0;32m    525\u001b[0m             \u001b[0mseries_description\u001b[0m \u001b[1;33m=\u001b[0m \u001b[1;33m{\u001b[0m\u001b[1;33m}\u001b[0m\u001b[1;33m\u001b[0m\u001b[1;33m\u001b[0m\u001b[0m\n\u001b[1;32m--> 526\u001b[1;33m             \u001b[0mresults\u001b[0m \u001b[1;33m=\u001b[0m \u001b[0mexecutor\u001b[0m\u001b[1;33m.\u001b[0m\u001b[0mstarmap\u001b[0m\u001b[1;33m(\u001b[0m\u001b[0mmultiprocess_1d\u001b[0m\u001b[1;33m,\u001b[0m \u001b[0mdf\u001b[0m\u001b[1;33m.\u001b[0m\u001b[0miteritems\u001b[0m\u001b[1;33m(\u001b[0m\u001b[1;33m)\u001b[0m\u001b[1;33m)\u001b[0m\u001b[1;33m\u001b[0m\u001b[1;33m\u001b[0m\u001b[0m\n\u001b[0m\u001b[0;32m    527\u001b[0m             \u001b[1;32mfor\u001b[0m \u001b[0mcol\u001b[0m\u001b[1;33m,\u001b[0m \u001b[0mdescription\u001b[0m \u001b[1;32min\u001b[0m \u001b[0mresults\u001b[0m\u001b[1;33m:\u001b[0m\u001b[1;33m\u001b[0m\u001b[1;33m\u001b[0m\u001b[0m\n\u001b[0;32m    528\u001b[0m                 \u001b[0mseries_description\u001b[0m\u001b[1;33m[\u001b[0m\u001b[0mcol\u001b[0m\u001b[1;33m]\u001b[0m \u001b[1;33m=\u001b[0m \u001b[0mdescription\u001b[0m\u001b[1;33m\u001b[0m\u001b[1;33m\u001b[0m\u001b[0m\n",
      "\u001b[1;32mC:\\ProgramData\\Anaconda3\\lib\\multiprocessing\\pool.py\u001b[0m in \u001b[0;36mstarmap\u001b[1;34m(self, func, iterable, chunksize)\u001b[0m\n\u001b[0;32m    274\u001b[0m         \u001b[0;31m`\u001b[0m\u001b[0mfunc\u001b[0m\u001b[0;31m`\u001b[0m \u001b[1;32mand\u001b[0m \u001b[1;33m(\u001b[0m\u001b[0ma\u001b[0m\u001b[1;33m,\u001b[0m \u001b[0mb\u001b[0m\u001b[1;33m)\u001b[0m \u001b[0mbecomes\u001b[0m \u001b[0mfunc\u001b[0m\u001b[1;33m(\u001b[0m\u001b[0ma\u001b[0m\u001b[1;33m,\u001b[0m \u001b[0mb\u001b[0m\u001b[1;33m)\u001b[0m\u001b[1;33m.\u001b[0m\u001b[1;33m\u001b[0m\u001b[1;33m\u001b[0m\u001b[0m\n\u001b[0;32m    275\u001b[0m         '''\n\u001b[1;32m--> 276\u001b[1;33m         \u001b[1;32mreturn\u001b[0m \u001b[0mself\u001b[0m\u001b[1;33m.\u001b[0m\u001b[0m_map_async\u001b[0m\u001b[1;33m(\u001b[0m\u001b[0mfunc\u001b[0m\u001b[1;33m,\u001b[0m \u001b[0miterable\u001b[0m\u001b[1;33m,\u001b[0m \u001b[0mstarmapstar\u001b[0m\u001b[1;33m,\u001b[0m \u001b[0mchunksize\u001b[0m\u001b[1;33m)\u001b[0m\u001b[1;33m.\u001b[0m\u001b[0mget\u001b[0m\u001b[1;33m(\u001b[0m\u001b[1;33m)\u001b[0m\u001b[1;33m\u001b[0m\u001b[1;33m\u001b[0m\u001b[0m\n\u001b[0m\u001b[0;32m    277\u001b[0m \u001b[1;33m\u001b[0m\u001b[0m\n\u001b[0;32m    278\u001b[0m     def starmap_async(self, func, iterable, chunksize=None, callback=None,\n",
      "\u001b[1;32mC:\\ProgramData\\Anaconda3\\lib\\multiprocessing\\pool.py\u001b[0m in \u001b[0;36mget\u001b[1;34m(self, timeout)\u001b[0m\n\u001b[0;32m    649\u001b[0m \u001b[1;33m\u001b[0m\u001b[0m\n\u001b[0;32m    650\u001b[0m     \u001b[1;32mdef\u001b[0m \u001b[0mget\u001b[0m\u001b[1;33m(\u001b[0m\u001b[0mself\u001b[0m\u001b[1;33m,\u001b[0m \u001b[0mtimeout\u001b[0m\u001b[1;33m=\u001b[0m\u001b[1;32mNone\u001b[0m\u001b[1;33m)\u001b[0m\u001b[1;33m:\u001b[0m\u001b[1;33m\u001b[0m\u001b[1;33m\u001b[0m\u001b[0m\n\u001b[1;32m--> 651\u001b[1;33m         \u001b[0mself\u001b[0m\u001b[1;33m.\u001b[0m\u001b[0mwait\u001b[0m\u001b[1;33m(\u001b[0m\u001b[0mtimeout\u001b[0m\u001b[1;33m)\u001b[0m\u001b[1;33m\u001b[0m\u001b[1;33m\u001b[0m\u001b[0m\n\u001b[0m\u001b[0;32m    652\u001b[0m         \u001b[1;32mif\u001b[0m \u001b[1;32mnot\u001b[0m \u001b[0mself\u001b[0m\u001b[1;33m.\u001b[0m\u001b[0mready\u001b[0m\u001b[1;33m(\u001b[0m\u001b[1;33m)\u001b[0m\u001b[1;33m:\u001b[0m\u001b[1;33m\u001b[0m\u001b[1;33m\u001b[0m\u001b[0m\n\u001b[0;32m    653\u001b[0m             \u001b[1;32mraise\u001b[0m \u001b[0mTimeoutError\u001b[0m\u001b[1;33m\u001b[0m\u001b[1;33m\u001b[0m\u001b[0m\n",
      "\u001b[1;32mC:\\ProgramData\\Anaconda3\\lib\\multiprocessing\\pool.py\u001b[0m in \u001b[0;36mwait\u001b[1;34m(self, timeout)\u001b[0m\n\u001b[0;32m    646\u001b[0m \u001b[1;33m\u001b[0m\u001b[0m\n\u001b[0;32m    647\u001b[0m     \u001b[1;32mdef\u001b[0m \u001b[0mwait\u001b[0m\u001b[1;33m(\u001b[0m\u001b[0mself\u001b[0m\u001b[1;33m,\u001b[0m \u001b[0mtimeout\u001b[0m\u001b[1;33m=\u001b[0m\u001b[1;32mNone\u001b[0m\u001b[1;33m)\u001b[0m\u001b[1;33m:\u001b[0m\u001b[1;33m\u001b[0m\u001b[1;33m\u001b[0m\u001b[0m\n\u001b[1;32m--> 648\u001b[1;33m         \u001b[0mself\u001b[0m\u001b[1;33m.\u001b[0m\u001b[0m_event\u001b[0m\u001b[1;33m.\u001b[0m\u001b[0mwait\u001b[0m\u001b[1;33m(\u001b[0m\u001b[0mtimeout\u001b[0m\u001b[1;33m)\u001b[0m\u001b[1;33m\u001b[0m\u001b[1;33m\u001b[0m\u001b[0m\n\u001b[0m\u001b[0;32m    649\u001b[0m \u001b[1;33m\u001b[0m\u001b[0m\n\u001b[0;32m    650\u001b[0m     \u001b[1;32mdef\u001b[0m \u001b[0mget\u001b[0m\u001b[1;33m(\u001b[0m\u001b[0mself\u001b[0m\u001b[1;33m,\u001b[0m \u001b[0mtimeout\u001b[0m\u001b[1;33m=\u001b[0m\u001b[1;32mNone\u001b[0m\u001b[1;33m)\u001b[0m\u001b[1;33m:\u001b[0m\u001b[1;33m\u001b[0m\u001b[1;33m\u001b[0m\u001b[0m\n",
      "\u001b[1;32mC:\\ProgramData\\Anaconda3\\lib\\threading.py\u001b[0m in \u001b[0;36mwait\u001b[1;34m(self, timeout)\u001b[0m\n\u001b[0;32m    550\u001b[0m             \u001b[0msignaled\u001b[0m \u001b[1;33m=\u001b[0m \u001b[0mself\u001b[0m\u001b[1;33m.\u001b[0m\u001b[0m_flag\u001b[0m\u001b[1;33m\u001b[0m\u001b[1;33m\u001b[0m\u001b[0m\n\u001b[0;32m    551\u001b[0m             \u001b[1;32mif\u001b[0m \u001b[1;32mnot\u001b[0m \u001b[0msignaled\u001b[0m\u001b[1;33m:\u001b[0m\u001b[1;33m\u001b[0m\u001b[1;33m\u001b[0m\u001b[0m\n\u001b[1;32m--> 552\u001b[1;33m                 \u001b[0msignaled\u001b[0m \u001b[1;33m=\u001b[0m \u001b[0mself\u001b[0m\u001b[1;33m.\u001b[0m\u001b[0m_cond\u001b[0m\u001b[1;33m.\u001b[0m\u001b[0mwait\u001b[0m\u001b[1;33m(\u001b[0m\u001b[0mtimeout\u001b[0m\u001b[1;33m)\u001b[0m\u001b[1;33m\u001b[0m\u001b[1;33m\u001b[0m\u001b[0m\n\u001b[0m\u001b[0;32m    553\u001b[0m             \u001b[1;32mreturn\u001b[0m \u001b[0msignaled\u001b[0m\u001b[1;33m\u001b[0m\u001b[1;33m\u001b[0m\u001b[0m\n\u001b[0;32m    554\u001b[0m \u001b[1;33m\u001b[0m\u001b[0m\n",
      "\u001b[1;32mC:\\ProgramData\\Anaconda3\\lib\\threading.py\u001b[0m in \u001b[0;36mwait\u001b[1;34m(self, timeout)\u001b[0m\n\u001b[0;32m    294\u001b[0m         \u001b[1;32mtry\u001b[0m\u001b[1;33m:\u001b[0m    \u001b[1;31m# restore state no matter what (e.g., KeyboardInterrupt)\u001b[0m\u001b[1;33m\u001b[0m\u001b[1;33m\u001b[0m\u001b[0m\n\u001b[0;32m    295\u001b[0m             \u001b[1;32mif\u001b[0m \u001b[0mtimeout\u001b[0m \u001b[1;32mis\u001b[0m \u001b[1;32mNone\u001b[0m\u001b[1;33m:\u001b[0m\u001b[1;33m\u001b[0m\u001b[1;33m\u001b[0m\u001b[0m\n\u001b[1;32m--> 296\u001b[1;33m                 \u001b[0mwaiter\u001b[0m\u001b[1;33m.\u001b[0m\u001b[0macquire\u001b[0m\u001b[1;33m(\u001b[0m\u001b[1;33m)\u001b[0m\u001b[1;33m\u001b[0m\u001b[1;33m\u001b[0m\u001b[0m\n\u001b[0m\u001b[0;32m    297\u001b[0m                 \u001b[0mgotit\u001b[0m \u001b[1;33m=\u001b[0m \u001b[1;32mTrue\u001b[0m\u001b[1;33m\u001b[0m\u001b[1;33m\u001b[0m\u001b[0m\n\u001b[0;32m    298\u001b[0m             \u001b[1;32melse\u001b[0m\u001b[1;33m:\u001b[0m\u001b[1;33m\u001b[0m\u001b[1;33m\u001b[0m\u001b[0m\n",
      "\u001b[1;31mKeyboardInterrupt\u001b[0m: "
     ]
    }
   ],
   "source": [
    "pandas_profiling.ProfileReport(my_t.sample(round(my_t.shape[0]*0.01)))"
   ]
  },
  {
   "cell_type": "markdown",
   "metadata": {},
   "source": [
    "Lets drop TickTimestamp and Longitude due to correllation"
   ]
  },
  {
   "cell_type": "code",
   "execution_count": 20,
   "metadata": {},
   "outputs": [],
   "source": [
    "my_t = my_t.drop(columns=['TickTimestamp', 'Longitude'])"
   ]
  },
  {
   "cell_type": "code",
   "execution_count": 21,
   "metadata": {},
   "outputs": [
    {
     "data": {
      "text/plain": [
       "(3822689, 12)"
      ]
     },
     "execution_count": 21,
     "metadata": {},
     "output_type": "execute_result"
    }
   ],
   "source": [
    "my_t.shape"
   ]
  },
  {
   "cell_type": "code",
   "execution_count": 22,
   "metadata": {},
   "outputs": [
    {
     "name": "stdout",
     "output_type": "stream",
     "text": [
      "<class 'pandas.core.frame.DataFrame'>\n",
      "RangeIndex: 3822689 entries, 0 to 3822688\n",
      "Data columns (total 12 columns):\n",
      "IncomingTrackId          int64\n",
      "Speed                    float64\n",
      "Latitude                 float64\n",
      "PointDate                object\n",
      "Height                   float64\n",
      "Acceleration             float64\n",
      "Deceleration             float64\n",
      "AccelerationXOriginal    float64\n",
      "AccelerationYOriginal    float64\n",
      "AccelerationZOriginal    float64\n",
      "TrackOrigin              object\n",
      "ispassanger              int64\n",
      "dtypes: float64(8), int64(2), object(2)\n",
      "memory usage: 350.0+ MB\n"
     ]
    }
   ],
   "source": [
    "my_t.info()"
   ]
  },
  {
   "cell_type": "code",
   "execution_count": 23,
   "metadata": {},
   "outputs": [
    {
     "data": {
      "text/plain": [
       "0    2899056\n",
       "1     923633\n",
       "Name: ispassanger, dtype: int64"
      ]
     },
     "execution_count": 23,
     "metadata": {},
     "output_type": "execute_result"
    }
   ],
   "source": [
    "my_t['ispassanger'].value_counts()"
   ]
  },
  {
   "cell_type": "markdown",
   "metadata": {},
   "source": [
    "All unique TrackOrigin values:"
   ]
  },
  {
   "cell_type": "code",
   "execution_count": 24,
   "metadata": {},
   "outputs": [
    {
     "data": {
      "text/plain": [
       "array(['OriginalDriver', 'Passanger', 'Taxi'], dtype=object)"
      ]
     },
     "execution_count": 24,
     "metadata": {},
     "output_type": "execute_result"
    }
   ],
   "source": [
    "my_t['TrackOrigin'].unique()"
   ]
  },
  {
   "cell_type": "code",
   "execution_count": 25,
   "metadata": {},
   "outputs": [],
   "source": [
    "my_t['AccelerationZOriginal_zscore'] = (my_t.AccelerationZOriginal - my_t.AccelerationZOriginal.mean())/my_t.AccelerationZOriginal.std(ddof=0)\n",
    "# my_t['AccelerationZOriginal_zscore']"
   ]
  },
  {
   "cell_type": "code",
   "execution_count": 26,
   "metadata": {},
   "outputs": [
    {
     "name": "stdout",
     "output_type": "stream",
     "text": [
      "['PointDate', 'TrackOrigin']\n",
      "['IncomingTrackId', 'Speed', 'Latitude', 'Height', 'Acceleration', 'Deceleration', 'AccelerationXOriginal', 'AccelerationYOriginal', 'AccelerationZOriginal', 'AccelerationZOriginal_zscore']\n"
     ]
    }
   ],
   "source": [
    "categorical_columns = [c for c in my_t.columns if my_t[c].dtype.name == 'object']\n",
    "numerical_columns   = [c for c in my_t.columns if my_t[c].dtype.name != 'object']\n",
    "numerical_columns.remove('ispassanger')\n",
    "print(categorical_columns)\n",
    "print(numerical_columns)"
   ]
  },
  {
   "cell_type": "code",
   "execution_count": 27,
   "metadata": {},
   "outputs": [
    {
     "name": "stdout",
     "output_type": "stream",
     "text": [
      "['2019-10-17 15:35:23.0000000 +03:00' '2019-10-17 15:35:34.0000000 +03:00'\n",
      " '2019-10-17 15:37:28.0000000 +03:00' ...\n",
      " '2019-10-23 12:34:44.0000000 +04:00' '2019-10-23 12:34:45.0000000 +04:00'\n",
      " '2019-10-23 12:34:46.0000000 +04:00']\n",
      "['OriginalDriver' 'Passanger' 'Taxi']\n"
     ]
    }
   ],
   "source": [
    "for c in categorical_columns:\n",
    "    print(my_t[c].unique())"
   ]
  },
  {
   "cell_type": "code",
   "execution_count": 28,
   "metadata": {},
   "outputs": [
    {
     "data": {
      "text/html": [
       "<div>\n",
       "<style scoped>\n",
       "    .dataframe tbody tr th:only-of-type {\n",
       "        vertical-align: middle;\n",
       "    }\n",
       "\n",
       "    .dataframe tbody tr th {\n",
       "        vertical-align: top;\n",
       "    }\n",
       "\n",
       "    .dataframe thead th {\n",
       "        text-align: right;\n",
       "    }\n",
       "</style>\n",
       "<table border=\"1\" class=\"dataframe\">\n",
       "  <thead>\n",
       "    <tr style=\"text-align: right;\">\n",
       "      <th></th>\n",
       "      <th>IncomingTrackId</th>\n",
       "      <th>Speed</th>\n",
       "      <th>Latitude</th>\n",
       "      <th>Height</th>\n",
       "      <th>Acceleration</th>\n",
       "      <th>Deceleration</th>\n",
       "      <th>AccelerationXOriginal</th>\n",
       "      <th>AccelerationYOriginal</th>\n",
       "      <th>AccelerationZOriginal</th>\n",
       "      <th>AccelerationZOriginal_zscore</th>\n",
       "    </tr>\n",
       "  </thead>\n",
       "  <tbody>\n",
       "    <tr>\n",
       "      <th>count</th>\n",
       "      <td>3.822689e+06</td>\n",
       "      <td>3.822689e+06</td>\n",
       "      <td>3.822689e+06</td>\n",
       "      <td>3.822689e+06</td>\n",
       "      <td>3.822689e+06</td>\n",
       "      <td>3.822689e+06</td>\n",
       "      <td>3.822689e+06</td>\n",
       "      <td>3.822689e+06</td>\n",
       "      <td>3.822689e+06</td>\n",
       "      <td>3.822689e+06</td>\n",
       "    </tr>\n",
       "    <tr>\n",
       "      <th>mean</th>\n",
       "      <td>-1.359237e-13</td>\n",
       "      <td>-5.343200e-13</td>\n",
       "      <td>-3.101774e-13</td>\n",
       "      <td>-1.227142e-14</td>\n",
       "      <td>-2.693514e-15</td>\n",
       "      <td>2.428010e-13</td>\n",
       "      <td>-1.568428e-14</td>\n",
       "      <td>-2.918194e-14</td>\n",
       "      <td>7.152220e-14</td>\n",
       "      <td>9.298588e-14</td>\n",
       "    </tr>\n",
       "    <tr>\n",
       "      <th>std</th>\n",
       "      <td>1.000000e+00</td>\n",
       "      <td>1.000000e+00</td>\n",
       "      <td>1.000000e+00</td>\n",
       "      <td>1.000000e+00</td>\n",
       "      <td>1.000000e+00</td>\n",
       "      <td>1.000000e+00</td>\n",
       "      <td>1.000000e+00</td>\n",
       "      <td>1.000000e+00</td>\n",
       "      <td>1.000000e+00</td>\n",
       "      <td>1.000000e+00</td>\n",
       "    </tr>\n",
       "    <tr>\n",
       "      <th>min</th>\n",
       "      <td>-3.453707e+00</td>\n",
       "      <td>-8.625992e-01</td>\n",
       "      <td>-2.095684e+00</td>\n",
       "      <td>-3.686349e+00</td>\n",
       "      <td>-3.040488e+01</td>\n",
       "      <td>-3.253421e+01</td>\n",
       "      <td>-2.687885e+01</td>\n",
       "      <td>-1.781270e+01</td>\n",
       "      <td>-1.344837e+01</td>\n",
       "      <td>-1.344837e+01</td>\n",
       "    </tr>\n",
       "    <tr>\n",
       "      <th>25%</th>\n",
       "      <td>-1.440812e-01</td>\n",
       "      <td>-8.600586e-01</td>\n",
       "      <td>-8.554802e-01</td>\n",
       "      <td>-5.885655e-01</td>\n",
       "      <td>-8.113991e-02</td>\n",
       "      <td>-1.030642e-01</td>\n",
       "      <td>-1.795231e-01</td>\n",
       "      <td>-3.718626e-01</td>\n",
       "      <td>-4.035180e-01</td>\n",
       "      <td>-4.035180e-01</td>\n",
       "    </tr>\n",
       "    <tr>\n",
       "      <th>50%</th>\n",
       "      <td>-5.999127e-02</td>\n",
       "      <td>-4.613654e-01</td>\n",
       "      <td>5.744294e-01</td>\n",
       "      <td>-1.024264e-01</td>\n",
       "      <td>-8.113991e-02</td>\n",
       "      <td>-1.030642e-01</td>\n",
       "      <td>-5.537089e-02</td>\n",
       "      <td>-1.431376e-01</td>\n",
       "      <td>-2.198127e-01</td>\n",
       "      <td>-2.198127e-01</td>\n",
       "    </tr>\n",
       "    <tr>\n",
       "      <th>75%</th>\n",
       "      <td>9.360261e-02</td>\n",
       "      <td>7.087255e-01</td>\n",
       "      <td>6.606778e-01</td>\n",
       "      <td>2.441756e-01</td>\n",
       "      <td>-8.113991e-02</td>\n",
       "      <td>-1.030642e-01</td>\n",
       "      <td>5.569406e-02</td>\n",
       "      <td>2.589308e-02</td>\n",
       "      <td>-1.301652e-02</td>\n",
       "      <td>-1.301652e-02</td>\n",
       "    </tr>\n",
       "    <tr>\n",
       "      <th>max</th>\n",
       "      <td>3.495149e+00</td>\n",
       "      <td>6.060875e+00</td>\n",
       "      <td>1.043311e+00</td>\n",
       "      <td>1.896468e+01</td>\n",
       "      <td>3.521833e+01</td>\n",
       "      <td>3.228169e+01</td>\n",
       "      <td>2.343636e+01</td>\n",
       "      <td>1.251143e+01</td>\n",
       "      <td>1.410654e+01</td>\n",
       "      <td>1.410654e+01</td>\n",
       "    </tr>\n",
       "  </tbody>\n",
       "</table>\n",
       "</div>"
      ],
      "text/plain": [
       "       IncomingTrackId         Speed      Latitude        Height  \\\n",
       "count     3.822689e+06  3.822689e+06  3.822689e+06  3.822689e+06   \n",
       "mean     -1.359237e-13 -5.343200e-13 -3.101774e-13 -1.227142e-14   \n",
       "std       1.000000e+00  1.000000e+00  1.000000e+00  1.000000e+00   \n",
       "min      -3.453707e+00 -8.625992e-01 -2.095684e+00 -3.686349e+00   \n",
       "25%      -1.440812e-01 -8.600586e-01 -8.554802e-01 -5.885655e-01   \n",
       "50%      -5.999127e-02 -4.613654e-01  5.744294e-01 -1.024264e-01   \n",
       "75%       9.360261e-02  7.087255e-01  6.606778e-01  2.441756e-01   \n",
       "max       3.495149e+00  6.060875e+00  1.043311e+00  1.896468e+01   \n",
       "\n",
       "       Acceleration  Deceleration  AccelerationXOriginal  \\\n",
       "count  3.822689e+06  3.822689e+06           3.822689e+06   \n",
       "mean  -2.693514e-15  2.428010e-13          -1.568428e-14   \n",
       "std    1.000000e+00  1.000000e+00           1.000000e+00   \n",
       "min   -3.040488e+01 -3.253421e+01          -2.687885e+01   \n",
       "25%   -8.113991e-02 -1.030642e-01          -1.795231e-01   \n",
       "50%   -8.113991e-02 -1.030642e-01          -5.537089e-02   \n",
       "75%   -8.113991e-02 -1.030642e-01           5.569406e-02   \n",
       "max    3.521833e+01  3.228169e+01           2.343636e+01   \n",
       "\n",
       "       AccelerationYOriginal  AccelerationZOriginal  \\\n",
       "count           3.822689e+06           3.822689e+06   \n",
       "mean           -2.918194e-14           7.152220e-14   \n",
       "std             1.000000e+00           1.000000e+00   \n",
       "min            -1.781270e+01          -1.344837e+01   \n",
       "25%            -3.718626e-01          -4.035180e-01   \n",
       "50%            -1.431376e-01          -2.198127e-01   \n",
       "75%             2.589308e-02          -1.301652e-02   \n",
       "max             1.251143e+01           1.410654e+01   \n",
       "\n",
       "       AccelerationZOriginal_zscore  \n",
       "count                  3.822689e+06  \n",
       "mean                   9.298588e-14  \n",
       "std                    1.000000e+00  \n",
       "min                   -1.344837e+01  \n",
       "25%                   -4.035180e-01  \n",
       "50%                   -2.198127e-01  \n",
       "75%                   -1.301652e-02  \n",
       "max                    1.410654e+01  "
      ]
     },
     "execution_count": 28,
     "metadata": {},
     "output_type": "execute_result"
    }
   ],
   "source": [
    "data_numerical = my_t[numerical_columns]\n",
    "data_numerical = (data_numerical - data_numerical.mean()) / data_numerical.std()\n",
    "data_numerical.describe()"
   ]
  },
  {
   "cell_type": "code",
   "execution_count": 29,
   "metadata": {},
   "outputs": [
    {
     "name": "stdout",
     "output_type": "stream",
     "text": [
      "(3822689, 11)\n",
      "Index(['IncomingTrackId', 'Speed', 'Latitude', 'Height', 'Acceleration',\n",
      "       'Deceleration', 'AccelerationXOriginal', 'AccelerationYOriginal',\n",
      "       'AccelerationZOriginal', 'AccelerationZOriginal_zscore', 'ispassanger'],\n",
      "      dtype='object')\n"
     ]
    }
   ],
   "source": [
    "my_t = pd.concat((data_numerical, my_t['ispassanger']), axis=1)\n",
    "my_t = pd.DataFrame(my_t, dtype=float)\n",
    "print (my_t.shape)\n",
    "print (my_t.columns)"
   ]
  },
  {
   "cell_type": "markdown",
   "metadata": {},
   "source": [
    "# # 3. В richtracks для каждого трека есть поле TrackOrigin, которое описывает кем была произведена поездка: владельцем смартфона или нет. "
   ]
  },
  {
   "cell_type": "markdown",
   "metadata": {},
   "source": [
    "1. Поделим данные на обучающую и тестовые выборки\n",
    "2. Обучим модель логистической регрессии"
   ]
  },
  {
   "cell_type": "code",
   "execution_count": 30,
   "metadata": {},
   "outputs": [],
   "source": [
    "my_cols = set(my_t.columns)\n",
    "my_cols.remove('ispassanger')"
   ]
  },
  {
   "cell_type": "code",
   "execution_count": 31,
   "metadata": {},
   "outputs": [
    {
     "name": "stdout",
     "output_type": "stream",
     "text": [
      "Index(['AccelerationYOriginal', 'Speed', 'AccelerationZOriginal', 'Height',\n",
      "       'AccelerationZOriginal_zscore', 'Latitude', 'AccelerationXOriginal',\n",
      "       'IncomingTrackId', 'Deceleration', 'Acceleration'],\n",
      "      dtype='object')\n"
     ]
    }
   ],
   "source": [
    "y = my_t['ispassanger']\n",
    "X = my_t[my_cols]\n",
    "X_train, X_test, y_train, y_test = train_test_split(X, y, stratify=y, test_size=0.2)\n",
    "feature_names = X.columns\n",
    "print(feature_names)"
   ]
  },
  {
   "cell_type": "code",
   "execution_count": 32,
   "metadata": {},
   "outputs": [
    {
     "name": "stdout",
     "output_type": "stream",
     "text": [
      "3058151 764538\n"
     ]
    }
   ],
   "source": [
    "N_train, _ = X_train.shape \n",
    "N_test,  _ = X_test.shape \n",
    "print(N_train, N_test)"
   ]
  },
  {
   "cell_type": "code",
   "execution_count": 48,
   "metadata": {},
   "outputs": [
    {
     "name": "stdout",
     "output_type": "stream",
     "text": [
      "              precision    recall  f1-score   support\n",
      "\n",
      "         0.0       0.77      0.98      0.87    579811\n",
      "         1.0       0.66      0.09      0.17    184727\n",
      "\n",
      "    accuracy                           0.77    764538\n",
      "   macro avg       0.72      0.54      0.52    764538\n",
      "weighted avg       0.75      0.77      0.70    764538\n",
      "\n"
     ]
    }
   ],
   "source": [
    "# instantiate the model (using the default parameters)\n",
    "logreg = LogisticRegression(n_jobs=-1)\n",
    "\n",
    "# fit the model with data\n",
    "logreg.fit(X_train, y_train)\n",
    "\n",
    "y_pred=logreg.predict(X_test)\n",
    "\n",
    "# summarize the fit of the model\n",
    "print(metrics.classification_report(y_test, y_pred))\n",
    "cnf_matrix = metrics.confusion_matrix(y_test, y_pred)"
   ]
  },
  {
   "cell_type": "code",
   "execution_count": 49,
   "metadata": {},
   "outputs": [
    {
     "data": {
      "text/plain": [
       "Text(0.5, 257.44, 'Predicted label')"
      ]
     },
     "execution_count": 49,
     "metadata": {},
     "output_type": "execute_result"
    },
    {
     "data": {
      "image/png": "[encoded data removed]",
      "text/plain": [
       "<Figure size 432x288 with 2 Axes>"
      ]
     },
     "metadata": {
      "needs_background": "light"
     },
     "output_type": "display_data"
    }
   ],
   "source": [
    "class_names=[0,1] # name  of classes\n",
    "fig, ax = plt.subplots()\n",
    "tick_marks = np.arange(len(class_names))\n",
    "plt.xticks(tick_marks, class_names)\n",
    "plt.yticks(tick_marks, class_names)\n",
    "# create heatmap\n",
    "sns.heatmap(pd.DataFrame(cnf_matrix), annot=True, cmap=\"YlGnBu\" ,fmt='g')\n",
    "ax.xaxis.set_label_position(\"top\")\n",
    "plt.tight_layout()\n",
    "plt.title('Confusion matrix', y=1.1)\n",
    "plt.ylabel('Actual label')\n",
    "plt.xlabel('Predicted label')"
   ]
  },
  {
   "cell_type": "code",
   "execution_count": 50,
   "metadata": {},
   "outputs": [
    {
     "name": "stdout",
     "output_type": "stream",
     "text": [
      "Accuracy: 0.7692881190993777\n",
      "Precision: 0.65689557855127\n",
      "Recall: 0.09450161589805496\n"
     ]
    }
   ],
   "source": [
    "print(\"Accuracy:\",metrics.accuracy_score(y_test, y_pred))\n",
    "print(\"Precision:\",metrics.precision_score(y_test, y_pred))\n",
    "print(\"Recall:\",metrics.recall_score(y_test, y_pred))"
   ]
  }
 ],
 "metadata": {
  "kernelspec": {
   "display_name": "Python 3",
   "language": "python",
   "name": "python3"
  },
  "language_info": {
   "codemirror_mode": {
    "name": "ipython",
    "version": 3
   },
   "file_extension": ".py",
   "mimetype": "text/x-python",
   "name": "python",
   "nbconvert_exporter": "python",
   "pygments_lexer": "ipython3",
   "version": "3.7.3"
  }
 },
 "nbformat": 4,
 "nbformat_minor": 2
}
