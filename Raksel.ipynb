{
 "cells": [
  {
   "cell_type": "markdown",
   "metadata": {},
   "source": [
    "# Sources:\n",
    "1. https://www.kaggle.com/gautham11/building-a-scikit-learn-classification-pipeline\n",
    "2. https://habr.com/ru/company/ods/blog/326418/#rabota-s-kategorialnymi-priznakami-label-encoding-one-hot-encoding-hashing-trick\n",
    "3. https://python-scripts.com/logging-python\n",
    "4. https://habr.com/ru/company/ruvds/blog/451478/\n",
    "5. https://towardsdatascience.com/10-simple-hacks-to-speed-up-your-data-analysis-in-python-ec18c6396e6b\n",
    "6. https://towardsdatascience.com/why-exclude-highly-correlated-features-when-building-regression-model-34d77a90ea8e\n",
    "7. https://mlbootcamp.ru/article/tutorial/\n",
    "8. https://www.datacamp.com/community/tutorials/understanding-logistic-regression-python"
   ]
  },
  {
   "cell_type": "markdown",
   "metadata": {},
   "source": [
    "1. Understand the problem. We'll look at each variable and do a philosophical analysis about their meaning and importance for this problem.\n",
    "2. Univariable study. We'll just focus on the dependent variable ('SalePrice') and try to know a little bit more about it.\n",
    "3. Multivariate study. We'll try to understand how the dependent variable and independent variables relate.\n",
    "4. Basic cleaning. We'll clean the dataset and handle the missing data, outliers and categorical variables.\n",
    "5. Test assumptions. We'll check if our data meets the assumptions required by most multivariate techniques."
   ]
  },
  {
   "cell_type": "code",
   "execution_count": 1,
   "metadata": {},
   "outputs": [],
   "source": [
    "import numpy as np\n",
    "import pandas as pd\n",
    "import pandas_profiling #pandas profiling library\n",
    "import pandasql as ps #library to use sql with pandas df\n",
    "import matplotlib.pyplot as plt\n",
    "import seaborn as sns #ploting library\n",
    "sns.set(style=\"ticks\", color_codes=True)\n",
    "import matplotlib.pyplot as plt\n",
    "plt.style.use('ggplot') # make plots look like plots from R\n",
    "%matplotlib inline\n",
    "\n",
    "import logging #logging module\n",
    "\n",
    "from sklearn import metrics\n",
    "from sklearn.neighbors import KNeighborsClassifier\n",
    "from sklearn import ensemble\n",
    "from sklearn.ensemble import RandomForestRegressor, RandomForestClassifier, BaggingRegressor, ExtraTreesClassifier\n",
    "from sklearn.linear_model import LogisticRegression\n",
    "from sklearn.metrics import classification_report, accuracy_score\n",
    "from sklearn.metrics import roc_auc_score, roc_curve, confusion_matrix\n",
    "from sklearn.preprocessing import LabelEncoder, OneHotEncoder\n",
    "from sklearn.preprocessing import StandardScaler\n",
    "from sklearn.datasets import fetch_20newsgroups, load_files\n",
    "from sklearn.model_selection import train_test_split #used to split dataset into train and test randomly\n",
    "from sklearn.model_selection import cross_val_score, StratifiedKFold, GridSearchCV\n",
    "\n",
    "import warnings\n",
    "warnings.filterwarnings('ignore')\n",
    "import os\n",
    "import re\n",
    "\n",
    "from scipy.stats import norm\n",
    "from scipy import stats"
   ]
  },
  {
   "cell_type": "code",
   "execution_count": 2,
   "metadata": {},
   "outputs": [],
   "source": [
    "inc_points = pd.read_csv('inc_points_2.csv')\n",
    "rich_tracks = pd.read_csv('rich_tracks_2.csv')\n",
    "os_data = pd.read_csv('os.csv')"
   ]
  },
  {
   "cell_type": "code",
   "execution_count": 3,
   "metadata": {},
   "outputs": [],
   "source": [
    "q1 = \"\"\"SELECT case when TrackOrigin == 'Passanger' then 1 else 0 end ispassanger, inc_points.*, rich_tracks.*, os_data.*\n",
    "        FROM inc_points join rich_tracks on inc_points.incomingtrackid=rich_tracks.incomingtrackid\n",
    "                        join os_data on rich_tracks.DeviceToken=os_data.DeviceToken\n",
    "     \"\"\"\n",
    "my_t = ps.sqldf(q1, locals())"
   ]
  },
  {
   "cell_type": "code",
   "execution_count": 4,
   "metadata": {},
   "outputs": [],
   "source": [
    "#duplicate columns remover:\n",
    "my_t = my_t.loc[:,~my_t.columns.duplicated()]"
   ]
  },
  {
   "cell_type": "code",
   "execution_count": 5,
   "metadata": {},
   "outputs": [],
   "source": [
    "# #if we had to name columns:\n",
    "# data.columns = ['A' + str(i) for i in range(1, 16)] + ['class']\n",
    "# data.head()"
   ]
  },
  {
   "cell_type": "code",
   "execution_count": 6,
   "metadata": {},
   "outputs": [],
   "source": [
    "cols_in_inc_points = list(inc_points.columns.values)\n",
    "cols_in_rich_tracks = list(rich_tracks.columns.values)\n",
    "cols_in_os_data = list(os_data.columns.values)\n",
    "cols_to_analize = cols_in_inc_points + [\"TrackOrigin\"] + [\"ispassanger\"]"
   ]
  },
  {
   "cell_type": "code",
   "execution_count": null,
   "metadata": {},
   "outputs": [],
   "source": []
  },
  {
   "cell_type": "code",
   "execution_count": 7,
   "metadata": {},
   "outputs": [
    {
     "data": {
      "text/html": [
       "<div>\n",
       "<style scoped>\n",
       "    .dataframe tbody tr th:only-of-type {\n",
       "        vertical-align: middle;\n",
       "    }\n",
       "\n",
       "    .dataframe tbody tr th {\n",
       "        vertical-align: top;\n",
       "    }\n",
       "\n",
       "    .dataframe thead th {\n",
       "        text-align: right;\n",
       "    }\n",
       "</style>\n",
       "<table border=\"1\" class=\"dataframe\">\n",
       "  <thead>\n",
       "    <tr style=\"text-align: right;\">\n",
       "      <th></th>\n",
       "      <th>ispassanger</th>\n",
       "      <th>IncomingTrackId</th>\n",
       "      <th>Speed</th>\n",
       "      <th>Latitude</th>\n",
       "      <th>Longitude</th>\n",
       "      <th>PointDate</th>\n",
       "      <th>Height</th>\n",
       "      <th>Acceleration</th>\n",
       "      <th>Deceleration</th>\n",
       "      <th>TickTimestamp</th>\n",
       "      <th>...</th>\n",
       "      <th>AccelerationICount</th>\n",
       "      <th>DecelerationICount</th>\n",
       "      <th>AccelerationIDuration</th>\n",
       "      <th>DecelerationIDuration</th>\n",
       "      <th>RatingCornering</th>\n",
       "      <th>VehicleId</th>\n",
       "      <th>BeaconId</th>\n",
       "      <th>DeviationRatio</th>\n",
       "      <th>DeviationMeters</th>\n",
       "      <th>os_version</th>\n",
       "    </tr>\n",
       "  </thead>\n",
       "  <tbody>\n",
       "    <tr>\n",
       "      <th>1020196</th>\n",
       "      <td>0</td>\n",
       "      <td>20677122</td>\n",
       "      <td>29.807998</td>\n",
       "      <td>45.463799</td>\n",
       "      <td>-73.629139</td>\n",
       "      <td>2019-10-17 06:49:30.0000000 -04:00</td>\n",
       "      <td>63308.0</td>\n",
       "      <td>0.0</td>\n",
       "      <td>0.0</td>\n",
       "      <td>1571309372</td>\n",
       "      <td>...</td>\n",
       "      <td>0.0</td>\n",
       "      <td>59.0</td>\n",
       "      <td>0.0</td>\n",
       "      <td>72.0</td>\n",
       "      <td>NaN</td>\n",
       "      <td>None</td>\n",
       "      <td>None</td>\n",
       "      <td>0.0</td>\n",
       "      <td>27.514722</td>\n",
       "      <td>iOS</td>\n",
       "    </tr>\n",
       "    <tr>\n",
       "      <th>181010</th>\n",
       "      <td>0</td>\n",
       "      <td>20692979</td>\n",
       "      <td>51.898438</td>\n",
       "      <td>41.041513</td>\n",
       "      <td>-73.577387</td>\n",
       "      <td>2019-10-17 08:26:09.0000000 -04:00</td>\n",
       "      <td>28034.0</td>\n",
       "      <td>0.0</td>\n",
       "      <td>0.0</td>\n",
       "      <td>1571315170</td>\n",
       "      <td>...</td>\n",
       "      <td>0.0</td>\n",
       "      <td>9.0</td>\n",
       "      <td>0.0</td>\n",
       "      <td>28.0</td>\n",
       "      <td>NaN</td>\n",
       "      <td>None</td>\n",
       "      <td>None</td>\n",
       "      <td>0.0</td>\n",
       "      <td>16.642942</td>\n",
       "      <td>iOS</td>\n",
       "    </tr>\n",
       "    <tr>\n",
       "      <th>2410436</th>\n",
       "      <td>0</td>\n",
       "      <td>20665097</td>\n",
       "      <td>67.338657</td>\n",
       "      <td>43.534018</td>\n",
       "      <td>39.816295</td>\n",
       "      <td>2019-10-17 11:36:37.0000000 +03:00</td>\n",
       "      <td>15186.0</td>\n",
       "      <td>0.0</td>\n",
       "      <td>0.0</td>\n",
       "      <td>1571301397</td>\n",
       "      <td>...</td>\n",
       "      <td>542.0</td>\n",
       "      <td>470.0</td>\n",
       "      <td>572.0</td>\n",
       "      <td>780.0</td>\n",
       "      <td>NaN</td>\n",
       "      <td>None</td>\n",
       "      <td>None</td>\n",
       "      <td>0.0</td>\n",
       "      <td>6.965563</td>\n",
       "      <td>iOS</td>\n",
       "    </tr>\n",
       "    <tr>\n",
       "      <th>3090939</th>\n",
       "      <td>1</td>\n",
       "      <td>20076859</td>\n",
       "      <td>0.000000</td>\n",
       "      <td>-38.146357</td>\n",
       "      <td>145.159955</td>\n",
       "      <td>2019-10-13 10:15:39.0000000 +11:00</td>\n",
       "      <td>46998.0</td>\n",
       "      <td>0.0</td>\n",
       "      <td>0.0</td>\n",
       "      <td>1570922233</td>\n",
       "      <td>...</td>\n",
       "      <td>9.0</td>\n",
       "      <td>716.0</td>\n",
       "      <td>18.0</td>\n",
       "      <td>742.0</td>\n",
       "      <td>1.0</td>\n",
       "      <td>None</td>\n",
       "      <td>None</td>\n",
       "      <td>0.0</td>\n",
       "      <td>22.182474</td>\n",
       "      <td>iOS</td>\n",
       "    </tr>\n",
       "  </tbody>\n",
       "</table>\n",
       "<p>4 rows × 77 columns</p>\n",
       "</div>"
      ],
      "text/plain": [
       "         ispassanger  IncomingTrackId      Speed   Latitude   Longitude  \\\n",
       "1020196            0         20677122  29.807998  45.463799  -73.629139   \n",
       "181010             0         20692979  51.898438  41.041513  -73.577387   \n",
       "2410436            0         20665097  67.338657  43.534018   39.816295   \n",
       "3090939            1         20076859   0.000000 -38.146357  145.159955   \n",
       "\n",
       "                                  PointDate   Height  Acceleration  \\\n",
       "1020196  2019-10-17 06:49:30.0000000 -04:00  63308.0           0.0   \n",
       "181010   2019-10-17 08:26:09.0000000 -04:00  28034.0           0.0   \n",
       "2410436  2019-10-17 11:36:37.0000000 +03:00  15186.0           0.0   \n",
       "3090939  2019-10-13 10:15:39.0000000 +11:00  46998.0           0.0   \n",
       "\n",
       "         Deceleration  TickTimestamp  ...  AccelerationICount  \\\n",
       "1020196           0.0     1571309372  ...                 0.0   \n",
       "181010            0.0     1571315170  ...                 0.0   \n",
       "2410436           0.0     1571301397  ...               542.0   \n",
       "3090939           0.0     1570922233  ...                 9.0   \n",
       "\n",
       "         DecelerationICount  AccelerationIDuration  DecelerationIDuration  \\\n",
       "1020196                59.0                    0.0                   72.0   \n",
       "181010                  9.0                    0.0                   28.0   \n",
       "2410436               470.0                  572.0                  780.0   \n",
       "3090939               716.0                   18.0                  742.0   \n",
       "\n",
       "        RatingCornering VehicleId BeaconId DeviationRatio  DeviationMeters  \\\n",
       "1020196             NaN      None     None            0.0        27.514722   \n",
       "181010              NaN      None     None            0.0        16.642942   \n",
       "2410436             NaN      None     None            0.0         6.965563   \n",
       "3090939             1.0      None     None            0.0        22.182474   \n",
       "\n",
       "         os_version  \n",
       "1020196         iOS  \n",
       "181010          iOS  \n",
       "2410436         iOS  \n",
       "3090939         iOS  \n",
       "\n",
       "[4 rows x 77 columns]"
      ]
     },
     "execution_count": 7,
     "metadata": {},
     "output_type": "execute_result"
    }
   ],
   "source": [
    "my_t.sample(round(my_t.shape[0]*0.000001))\n",
    "# my_t.head()\n",
    "# my_t.tail()"
   ]
  },
  {
   "cell_type": "code",
   "execution_count": 42,
   "metadata": {},
   "outputs": [],
   "source": [
    "# As an alternative of violin plot, box plot can be used\n",
    "# box plots are also useful in terms of seeing outliers\n",
    "# I do not visualize all features with box plot\n",
    "# In order to show you lets have an example of box plot\n",
    "# If you want, you can visualize other features as well."
   ]
  },
  {
   "cell_type": "code",
   "execution_count": 32,
   "metadata": {},
   "outputs": [
    {
     "data": {
      "text/plain": [
       "<matplotlib.axes._subplots.AxesSubplot at 0x1795fe47400>"
      ]
     },
     "execution_count": 32,
     "metadata": {},
     "output_type": "execute_result"
    },
    {
     "data": {
      "image/png": "[encoded data removed]",
      "text/plain": [
       "<Figure size 432x288 with 1 Axes>"
      ]
     },
     "metadata": {},
     "output_type": "display_data"
    }
   ],
   "source": [
    "sns.boxplot(x=\"os_version\", y=\"Speed\", data=my_t)"
   ]
  },
  {
   "cell_type": "code",
   "execution_count": 33,
   "metadata": {},
   "outputs": [
    {
     "data": {
      "text/plain": [
       "<matplotlib.axes._subplots.AxesSubplot at 0x179e0d13f98>"
      ]
     },
     "execution_count": 33,
     "metadata": {},
     "output_type": "execute_result"
    },
    {
     "data": {
      "image/png": "[encoded data removed]",
      "text/plain": [
       "<Figure size 432x288 with 1 Axes>"
      ]
     },
     "metadata": {},
     "output_type": "display_data"
    }
   ],
   "source": [
    "sns.boxplot(x=\"os_version\", y=\"Latitude\", data=my_t)"
   ]
  },
  {
   "cell_type": "code",
   "execution_count": 34,
   "metadata": {},
   "outputs": [
    {
     "data": {
      "text/plain": [
       "<matplotlib.axes._subplots.AxesSubplot at 0x1795fa555c0>"
      ]
     },
     "execution_count": 34,
     "metadata": {},
     "output_type": "execute_result"
    },
    {
     "data": {
      "image/png": "[encoded data removed]",
      "text/plain": [
       "<Figure size 432x288 with 1 Axes>"
      ]
     },
     "metadata": {},
     "output_type": "display_data"
    }
   ],
   "source": [
    "sns.boxplot(x=\"os_version\", y=\"Longitude\", data=my_t)"
   ]
  },
  {
   "cell_type": "code",
   "execution_count": 35,
   "metadata": {},
   "outputs": [
    {
     "data": {
      "text/plain": [
       "<matplotlib.axes._subplots.AxesSubplot at 0x1796004fb70>"
      ]
     },
     "execution_count": 35,
     "metadata": {},
     "output_type": "execute_result"
    },
    {
     "data": {
      "image/png": "[encoded data removed]",
      "text/plain": [
       "<Figure size 432x288 with 1 Axes>"
      ]
     },
     "metadata": {},
     "output_type": "display_data"
    }
   ],
   "source": [
    "sns.boxplot(x=\"os_version\", y=\"Acceleration\", data=my_t)"
   ]
  },
  {
   "cell_type": "code",
   "execution_count": 36,
   "metadata": {},
   "outputs": [
    {
     "data": {
      "text/plain": [
       "<matplotlib.axes._subplots.AxesSubplot at 0x1795691c7b8>"
      ]
     },
     "execution_count": 36,
     "metadata": {},
     "output_type": "execute_result"
    },
    {
     "data": {
      "image/png": "[encoded data removed]",
      "text/plain": [
       "<Figure size 432x288 with 1 Axes>"
      ]
     },
     "metadata": {},
     "output_type": "display_data"
    }
   ],
   "source": [
    "sns.boxplot(x=\"os_version\", y=\"Deceleration\", data=my_t)"
   ]
  },
  {
   "cell_type": "code",
   "execution_count": 37,
   "metadata": {},
   "outputs": [
    {
     "data": {
      "text/plain": [
       "<matplotlib.axes._subplots.AxesSubplot at 0x17849aa4400>"
      ]
     },
     "execution_count": 37,
     "metadata": {},
     "output_type": "execute_result"
    },
    {
     "data": {
      "image/png": "[encoded data removed]",
      "text/plain": [
       "<Figure size 432x288 with 1 Axes>"
      ]
     },
     "metadata": {},
     "output_type": "display_data"
    }
   ],
   "source": [
    "sns.boxplot(x=\"os_version\", y=\"TickTimestamp\", data=my_t)"
   ]
  },
  {
   "cell_type": "code",
   "execution_count": 38,
   "metadata": {},
   "outputs": [
    {
     "data": {
      "text/plain": [
       "<matplotlib.axes._subplots.AxesSubplot at 0x1798dc52c88>"
      ]
     },
     "execution_count": 38,
     "metadata": {},
     "output_type": "execute_result"
    },
    {
     "data": {
      "image/png": "[encoded data removed]",
      "text/plain": [
       "<Figure size 432x288 with 1 Axes>"
      ]
     },
     "metadata": {},
     "output_type": "display_data"
    }
   ],
   "source": [
    "sns.boxplot(x=\"os_version\", y=\"AccelerationXOriginal\", data=my_t)"
   ]
  },
  {
   "cell_type": "code",
   "execution_count": 39,
   "metadata": {},
   "outputs": [
    {
     "data": {
      "text/plain": [
       "<matplotlib.axes._subplots.AxesSubplot at 0x1795fbc8828>"
      ]
     },
     "execution_count": 39,
     "metadata": {},
     "output_type": "execute_result"
    },
    {
     "data": {
      "image/png": "[encoded data removed]",
      "text/plain": [
       "<Figure size 432x288 with 1 Axes>"
      ]
     },
     "metadata": {},
     "output_type": "display_data"
    }
   ],
   "source": [
    "sns.boxplot(x=\"os_version\", y=\"AccelerationYOriginal\", data=my_t)"
   ]
  },
  {
   "cell_type": "code",
   "execution_count": 40,
   "metadata": {},
   "outputs": [
    {
     "data": {
      "text/plain": [
       "<matplotlib.axes._subplots.AxesSubplot at 0x1795f71da20>"
      ]
     },
     "execution_count": 40,
     "metadata": {},
     "output_type": "execute_result"
    },
    {
     "data": {
      "image/png": "[encoded data removed]",
      "text/plain": [
       "<Figure size 432x288 with 1 Axes>"
      ]
     },
     "metadata": {},
     "output_type": "display_data"
    }
   ],
   "source": [
    "sns.boxplot(x=\"os_version\", y=\"AccelerationZOriginal\", data=my_t)"
   ]
  },
  {
   "cell_type": "code",
   "execution_count": null,
   "metadata": {},
   "outputs": [],
   "source": []
  },
  {
   "cell_type": "code",
   "execution_count": 7,
   "metadata": {},
   "outputs": [
    {
     "name": "stdout",
     "output_type": "stream",
     "text": [
      "['IncomingTrackId', 'Speed', 'Latitude', 'Longitude', 'PointDate', 'Height', 'Acceleration', 'Deceleration', 'TickTimestamp', 'AccelerationXOriginal', 'AccelerationYOriginal', 'AccelerationZOriginal', 'TrackOrigin', 'ispassanger']\n"
     ]
    }
   ],
   "source": [
    "print(cols_to_analize)"
   ]
  },
  {
   "cell_type": "code",
   "execution_count": 8,
   "metadata": {},
   "outputs": [],
   "source": [
    "my_t = my_t[cols_to_analize]"
   ]
  },
  {
   "cell_type": "code",
   "execution_count": 9,
   "metadata": {},
   "outputs": [
    {
     "data": {
      "text/plain": [
       "[]"
      ]
     },
     "execution_count": 9,
     "metadata": {},
     "output_type": "execute_result"
    }
   ],
   "source": [
    "#check for NaNs\n",
    "my_t.columns[my_t.isna().any()].tolist()"
   ]
  },
  {
   "cell_type": "code",
   "execution_count": 10,
   "metadata": {},
   "outputs": [],
   "source": [
    "# pandas_profiling.ProfileReport(my_t.sample(round(my_t.shape[0]*0.1)))"
   ]
  },
  {
   "cell_type": "code",
   "execution_count": 12,
   "metadata": {},
   "outputs": [
    {
     "data": {
      "application/vnd.jupyter.widget-view+json": {
       "model_id": "7f3f615228b94ae29453695cf0043a56",
       "version_major": 2,
       "version_minor": 0
      },
      "text/plain": [
       "Tab(children=(HTML(value='<div id=\"overview-content\" class=\"row variable spacing\">\\n    <div class=\"row\">\\n   …"
      ]
     },
     "metadata": {},
     "output_type": "display_data"
    },
    {
     "data": {
      "text/html": [
       "Report generated with <a href=\"https://github.com/pandas-profiling/pandas-profiling\">pandas-profiling</a>."
      ],
      "text/plain": [
       "<IPython.core.display.HTML object>"
      ]
     },
     "metadata": {},
     "output_type": "display_data"
    },
    {
     "data": {
      "text/plain": []
     },
     "execution_count": 12,
     "metadata": {},
     "output_type": "execute_result"
    }
   ],
   "source": [
    "pandas_profiling.ProfileReport(my_t.sample(round(my_t.shape[0]*0.01)))"
   ]
  },
  {
   "cell_type": "markdown",
   "metadata": {},
   "source": [
    "Lets drop TickTimestamp and Longitude due to correllation"
   ]
  },
  {
   "cell_type": "code",
   "execution_count": 11,
   "metadata": {},
   "outputs": [],
   "source": [
    "my_t = my_t.drop(columns=['TickTimestamp', 'Longitude'])"
   ]
  },
  {
   "cell_type": "code",
   "execution_count": 12,
   "metadata": {},
   "outputs": [
    {
     "data": {
      "image/png": "[encoded data removed]",
      "text/plain": [
       "<Figure size 432x288 with 1 Axes>"
      ]
     },
     "metadata": {
      "needs_background": "light"
     },
     "output_type": "display_data"
    }
   ],
   "source": [
    "ax1 = my_t.sample(round(my_t.shape[0]*0.1)).plot.scatter(x='Longitude',\n",
    "                      y='Latitude',\n",
    "                      c='DarkBlue')"
   ]
  },
  {
   "cell_type": "code",
   "execution_count": 21,
   "metadata": {},
   "outputs": [
    {
     "data": {
      "image/png": "[encoded data removed]",
      "text/plain": [
       "<Figure size 432x288 with 1 Axes>"
      ]
     },
     "metadata": {
      "needs_background": "light"
     },
     "output_type": "display_data"
    }
   ],
   "source": [
    "ax2 = my_t.sample(round(my_t.shape[0]*0.1)).plot.scatter(x='IncomingTrackId',\n",
    "                      y='TickTimestamp',\n",
    "                      c='DarkBlue')"
   ]
  },
  {
   "cell_type": "code",
   "execution_count": null,
   "metadata": {},
   "outputs": [],
   "source": []
  },
  {
   "cell_type": "code",
   "execution_count": 13,
   "metadata": {},
   "outputs": [
    {
     "data": {
      "text/plain": [
       "(3822689, 14)"
      ]
     },
     "execution_count": 13,
     "metadata": {},
     "output_type": "execute_result"
    }
   ],
   "source": [
    "my_t.shape"
   ]
  },
  {
   "cell_type": "code",
   "execution_count": 14,
   "metadata": {},
   "outputs": [
    {
     "name": "stdout",
     "output_type": "stream",
     "text": [
      "<class 'pandas.core.frame.DataFrame'>\n",
      "RangeIndex: 3822689 entries, 0 to 3822688\n",
      "Data columns (total 12 columns):\n",
      "IncomingTrackId          int64\n",
      "Speed                    float64\n",
      "Latitude                 float64\n",
      "PointDate                object\n",
      "Height                   float64\n",
      "Acceleration             float64\n",
      "Deceleration             float64\n",
      "AccelerationXOriginal    float64\n",
      "AccelerationYOriginal    float64\n",
      "AccelerationZOriginal    float64\n",
      "TrackOrigin              object\n",
      "ispassanger              int64\n",
      "dtypes: float64(8), int64(2), object(2)\n",
      "memory usage: 350.0+ MB\n"
     ]
    }
   ],
   "source": [
    "my_t.info()"
   ]
  },
  {
   "cell_type": "code",
   "execution_count": 15,
   "metadata": {},
   "outputs": [
    {
     "data": {
      "text/html": [
       "<div>\n",
       "<style scoped>\n",
       "    .dataframe tbody tr th:only-of-type {\n",
       "        vertical-align: middle;\n",
       "    }\n",
       "\n",
       "    .dataframe tbody tr th {\n",
       "        vertical-align: top;\n",
       "    }\n",
       "\n",
       "    .dataframe thead th {\n",
       "        text-align: right;\n",
       "    }\n",
       "</style>\n",
       "<table border=\"1\" class=\"dataframe\">\n",
       "  <thead>\n",
       "    <tr style=\"text-align: right;\">\n",
       "      <th></th>\n",
       "      <th>IncomingTrackId</th>\n",
       "      <th>Speed</th>\n",
       "      <th>Latitude</th>\n",
       "      <th>Height</th>\n",
       "      <th>Acceleration</th>\n",
       "      <th>Deceleration</th>\n",
       "      <th>AccelerationXOriginal</th>\n",
       "      <th>AccelerationYOriginal</th>\n",
       "      <th>AccelerationZOriginal</th>\n",
       "      <th>ispassanger</th>\n",
       "    </tr>\n",
       "  </thead>\n",
       "  <tbody>\n",
       "    <tr>\n",
       "      <th>count</th>\n",
       "      <td>3.822689e+06</td>\n",
       "      <td>3.822689e+06</td>\n",
       "      <td>3.822689e+06</td>\n",
       "      <td>3.822689e+06</td>\n",
       "      <td>3.822689e+06</td>\n",
       "      <td>3.822689e+06</td>\n",
       "      <td>3.822689e+06</td>\n",
       "      <td>3.822689e+06</td>\n",
       "      <td>3.822689e+06</td>\n",
       "      <td>3.822689e+06</td>\n",
       "    </tr>\n",
       "    <tr>\n",
       "      <th>mean</th>\n",
       "      <td>2.069676e+07</td>\n",
       "      <td>2.805110e+01</td>\n",
       "      <td>3.205446e+01</td>\n",
       "      <td>1.257628e+05</td>\n",
       "      <td>5.859348e-02</td>\n",
       "      <td>1.145132e-01</td>\n",
       "      <td>9.780570e-02</td>\n",
       "      <td>3.216236e-01</td>\n",
       "      <td>3.199528e-01</td>\n",
       "      <td>2.416187e-01</td>\n",
       "    </tr>\n",
       "    <tr>\n",
       "      <th>std</th>\n",
       "      <td>2.340588e+05</td>\n",
       "      <td>3.251927e+01</td>\n",
       "      <td>3.588891e+01</td>\n",
       "      <td>1.561878e+05</td>\n",
       "      <td>7.221290e-01</td>\n",
       "      <td>1.111087e+00</td>\n",
       "      <td>1.766374e+00</td>\n",
       "      <td>2.733806e+00</td>\n",
       "      <td>2.898338e+00</td>\n",
       "      <td>4.280644e-01</td>\n",
       "    </tr>\n",
       "    <tr>\n",
       "      <th>min</th>\n",
       "      <td>1.988839e+07</td>\n",
       "      <td>0.000000e+00</td>\n",
       "      <td>-4.315735e+01</td>\n",
       "      <td>-4.500000e+05</td>\n",
       "      <td>-2.189765e+01</td>\n",
       "      <td>-3.603381e+01</td>\n",
       "      <td>-4.738030e+01</td>\n",
       "      <td>-4.837484e+01</td>\n",
       "      <td>-3.865796e+01</td>\n",
       "      <td>0.000000e+00</td>\n",
       "    </tr>\n",
       "    <tr>\n",
       "      <th>25%</th>\n",
       "      <td>2.066303e+07</td>\n",
       "      <td>8.261786e-02</td>\n",
       "      <td>1.352203e+00</td>\n",
       "      <td>3.383600e+04</td>\n",
       "      <td>0.000000e+00</td>\n",
       "      <td>0.000000e+00</td>\n",
       "      <td>-2.192993e-01</td>\n",
       "      <td>-6.949768e-01</td>\n",
       "      <td>-8.495789e-01</td>\n",
       "      <td>0.000000e+00</td>\n",
       "    </tr>\n",
       "    <tr>\n",
       "      <th>50%</th>\n",
       "      <td>2.068272e+07</td>\n",
       "      <td>1.304783e+01</td>\n",
       "      <td>5.267011e+01</td>\n",
       "      <td>1.097650e+05</td>\n",
       "      <td>0.000000e+00</td>\n",
       "      <td>0.000000e+00</td>\n",
       "      <td>0.000000e+00</td>\n",
       "      <td>-6.968689e-02</td>\n",
       "      <td>-3.171387e-01</td>\n",
       "      <td>0.000000e+00</td>\n",
       "    </tr>\n",
       "    <tr>\n",
       "      <th>75%</th>\n",
       "      <td>2.071867e+07</td>\n",
       "      <td>5.109833e+01</td>\n",
       "      <td>5.576547e+01</td>\n",
       "      <td>1.639000e+05</td>\n",
       "      <td>0.000000e+00</td>\n",
       "      <td>0.000000e+00</td>\n",
       "      <td>1.961823e-01</td>\n",
       "      <td>3.924103e-01</td>\n",
       "      <td>2.822266e-01</td>\n",
       "      <td>0.000000e+00</td>\n",
       "    </tr>\n",
       "    <tr>\n",
       "      <th>max</th>\n",
       "      <td>2.151483e+07</td>\n",
       "      <td>2.251463e+02</td>\n",
       "      <td>6.949774e+01</td>\n",
       "      <td>3.087814e+06</td>\n",
       "      <td>2.549077e+01</td>\n",
       "      <td>3.598226e+01</td>\n",
       "      <td>4.149518e+01</td>\n",
       "      <td>3.452544e+01</td>\n",
       "      <td>4.120547e+01</td>\n",
       "      <td>1.000000e+00</td>\n",
       "    </tr>\n",
       "  </tbody>\n",
       "</table>\n",
       "</div>"
      ],
      "text/plain": [
       "       IncomingTrackId         Speed      Latitude        Height  \\\n",
       "count     3.822689e+06  3.822689e+06  3.822689e+06  3.822689e+06   \n",
       "mean      2.069676e+07  2.805110e+01  3.205446e+01  1.257628e+05   \n",
       "std       2.340588e+05  3.251927e+01  3.588891e+01  1.561878e+05   \n",
       "min       1.988839e+07  0.000000e+00 -4.315735e+01 -4.500000e+05   \n",
       "25%       2.066303e+07  8.261786e-02  1.352203e+00  3.383600e+04   \n",
       "50%       2.068272e+07  1.304783e+01  5.267011e+01  1.097650e+05   \n",
       "75%       2.071867e+07  5.109833e+01  5.576547e+01  1.639000e+05   \n",
       "max       2.151483e+07  2.251463e+02  6.949774e+01  3.087814e+06   \n",
       "\n",
       "       Acceleration  Deceleration  AccelerationXOriginal  \\\n",
       "count  3.822689e+06  3.822689e+06           3.822689e+06   \n",
       "mean   5.859348e-02  1.145132e-01           9.780570e-02   \n",
       "std    7.221290e-01  1.111087e+00           1.766374e+00   \n",
       "min   -2.189765e+01 -3.603381e+01          -4.738030e+01   \n",
       "25%    0.000000e+00  0.000000e+00          -2.192993e-01   \n",
       "50%    0.000000e+00  0.000000e+00           0.000000e+00   \n",
       "75%    0.000000e+00  0.000000e+00           1.961823e-01   \n",
       "max    2.549077e+01  3.598226e+01           4.149518e+01   \n",
       "\n",
       "       AccelerationYOriginal  AccelerationZOriginal   ispassanger  \n",
       "count           3.822689e+06           3.822689e+06  3.822689e+06  \n",
       "mean            3.216236e-01           3.199528e-01  2.416187e-01  \n",
       "std             2.733806e+00           2.898338e+00  4.280644e-01  \n",
       "min            -4.837484e+01          -3.865796e+01  0.000000e+00  \n",
       "25%            -6.949768e-01          -8.495789e-01  0.000000e+00  \n",
       "50%            -6.968689e-02          -3.171387e-01  0.000000e+00  \n",
       "75%             3.924103e-01           2.822266e-01  0.000000e+00  \n",
       "max             3.452544e+01           4.120547e+01  1.000000e+00  "
      ]
     },
     "execution_count": 15,
     "metadata": {},
     "output_type": "execute_result"
    }
   ],
   "source": [
    "my_t.describe()"
   ]
  },
  {
   "cell_type": "code",
   "execution_count": 16,
   "metadata": {},
   "outputs": [
    {
     "data": {
      "text/plain": [
       "0    2899056\n",
       "1     923633\n",
       "Name: ispassanger, dtype: int64"
      ]
     },
     "execution_count": 16,
     "metadata": {},
     "output_type": "execute_result"
    }
   ],
   "source": [
    "my_t['ispassanger'].value_counts()"
   ]
  },
  {
   "cell_type": "code",
   "execution_count": 17,
   "metadata": {},
   "outputs": [
    {
     "ename": "KeyError",
     "evalue": "\"['Longitude', 'TickTimestamp'] not in index\"",
     "output_type": "error",
     "traceback": [
      "\u001b[1;31m---------------------------------------------------------------------------\u001b[0m",
      "\u001b[1;31mKeyError\u001b[0m                                  Traceback (most recent call last)",
      "\u001b[1;32m<ipython-input-17-ddbb031b6527>\u001b[0m in \u001b[0;36m<module>\u001b[1;34m\u001b[0m\n\u001b[1;32m----> 1\u001b[1;33m \u001b[0mtrain\u001b[0m\u001b[1;33m,\u001b[0m \u001b[0mtest\u001b[0m \u001b[1;33m=\u001b[0m \u001b[0mtrain_test_split\u001b[0m\u001b[1;33m(\u001b[0m\u001b[0mmy_t\u001b[0m\u001b[1;33m[\u001b[0m\u001b[0mcols_to_analize\u001b[0m\u001b[1;33m]\u001b[0m\u001b[1;33m,\u001b[0m \u001b[0mtest_size\u001b[0m\u001b[1;33m=\u001b[0m\u001b[1;36m0.2\u001b[0m\u001b[1;33m)\u001b[0m\u001b[1;33m\u001b[0m\u001b[1;33m\u001b[0m\u001b[0m\n\u001b[0m\u001b[0;32m      2\u001b[0m \u001b[1;33m\u001b[0m\u001b[0m\n\u001b[0;32m      3\u001b[0m \u001b[0mprint\u001b[0m\u001b[1;33m(\u001b[0m\u001b[0mtrain\u001b[0m\u001b[1;33m.\u001b[0m\u001b[0mshape\u001b[0m\u001b[1;33m)\u001b[0m\u001b[1;33m\u001b[0m\u001b[1;33m\u001b[0m\u001b[0m\n\u001b[0;32m      4\u001b[0m \u001b[0mprint\u001b[0m\u001b[1;33m(\u001b[0m\u001b[0mtest\u001b[0m\u001b[1;33m.\u001b[0m\u001b[0mshape\u001b[0m\u001b[1;33m)\u001b[0m\u001b[1;33m\u001b[0m\u001b[1;33m\u001b[0m\u001b[0m\n",
      "\u001b[1;32mC:\\ProgramData\\Anaconda3\\lib\\site-packages\\pandas\\core\\frame.py\u001b[0m in \u001b[0;36m__getitem__\u001b[1;34m(self, key)\u001b[0m\n\u001b[0;32m   2932\u001b[0m                 \u001b[0mkey\u001b[0m \u001b[1;33m=\u001b[0m \u001b[0mlist\u001b[0m\u001b[1;33m(\u001b[0m\u001b[0mkey\u001b[0m\u001b[1;33m)\u001b[0m\u001b[1;33m\u001b[0m\u001b[1;33m\u001b[0m\u001b[0m\n\u001b[0;32m   2933\u001b[0m             indexer = self.loc._convert_to_indexer(key, axis=1,\n\u001b[1;32m-> 2934\u001b[1;33m                                                    raise_missing=True)\n\u001b[0m\u001b[0;32m   2935\u001b[0m \u001b[1;33m\u001b[0m\u001b[0m\n\u001b[0;32m   2936\u001b[0m         \u001b[1;31m# take() does not accept boolean indexers\u001b[0m\u001b[1;33m\u001b[0m\u001b[1;33m\u001b[0m\u001b[1;33m\u001b[0m\u001b[0m\n",
      "\u001b[1;32mC:\\ProgramData\\Anaconda3\\lib\\site-packages\\pandas\\core\\indexing.py\u001b[0m in \u001b[0;36m_convert_to_indexer\u001b[1;34m(self, obj, axis, is_setter, raise_missing)\u001b[0m\n\u001b[0;32m   1352\u001b[0m                 kwargs = {'raise_missing': True if is_setter else\n\u001b[0;32m   1353\u001b[0m                           raise_missing}\n\u001b[1;32m-> 1354\u001b[1;33m                 \u001b[1;32mreturn\u001b[0m \u001b[0mself\u001b[0m\u001b[1;33m.\u001b[0m\u001b[0m_get_listlike_indexer\u001b[0m\u001b[1;33m(\u001b[0m\u001b[0mobj\u001b[0m\u001b[1;33m,\u001b[0m \u001b[0maxis\u001b[0m\u001b[1;33m,\u001b[0m \u001b[1;33m**\u001b[0m\u001b[0mkwargs\u001b[0m\u001b[1;33m)\u001b[0m\u001b[1;33m[\u001b[0m\u001b[1;36m1\u001b[0m\u001b[1;33m]\u001b[0m\u001b[1;33m\u001b[0m\u001b[1;33m\u001b[0m\u001b[0m\n\u001b[0m\u001b[0;32m   1355\u001b[0m         \u001b[1;32melse\u001b[0m\u001b[1;33m:\u001b[0m\u001b[1;33m\u001b[0m\u001b[1;33m\u001b[0m\u001b[0m\n\u001b[0;32m   1356\u001b[0m             \u001b[1;32mtry\u001b[0m\u001b[1;33m:\u001b[0m\u001b[1;33m\u001b[0m\u001b[1;33m\u001b[0m\u001b[0m\n",
      "\u001b[1;32mC:\\ProgramData\\Anaconda3\\lib\\site-packages\\pandas\\core\\indexing.py\u001b[0m in \u001b[0;36m_get_listlike_indexer\u001b[1;34m(self, key, axis, raise_missing)\u001b[0m\n\u001b[0;32m   1159\u001b[0m         self._validate_read_indexer(keyarr, indexer,\n\u001b[0;32m   1160\u001b[0m                                     \u001b[0mo\u001b[0m\u001b[1;33m.\u001b[0m\u001b[0m_get_axis_number\u001b[0m\u001b[1;33m(\u001b[0m\u001b[0maxis\u001b[0m\u001b[1;33m)\u001b[0m\u001b[1;33m,\u001b[0m\u001b[1;33m\u001b[0m\u001b[1;33m\u001b[0m\u001b[0m\n\u001b[1;32m-> 1161\u001b[1;33m                                     raise_missing=raise_missing)\n\u001b[0m\u001b[0;32m   1162\u001b[0m         \u001b[1;32mreturn\u001b[0m \u001b[0mkeyarr\u001b[0m\u001b[1;33m,\u001b[0m \u001b[0mindexer\u001b[0m\u001b[1;33m\u001b[0m\u001b[1;33m\u001b[0m\u001b[0m\n\u001b[0;32m   1163\u001b[0m \u001b[1;33m\u001b[0m\u001b[0m\n",
      "\u001b[1;32mC:\\ProgramData\\Anaconda3\\lib\\site-packages\\pandas\\core\\indexing.py\u001b[0m in \u001b[0;36m_validate_read_indexer\u001b[1;34m(self, key, indexer, axis, raise_missing)\u001b[0m\n\u001b[0;32m   1250\u001b[0m             \u001b[1;32mif\u001b[0m \u001b[1;32mnot\u001b[0m\u001b[1;33m(\u001b[0m\u001b[0mself\u001b[0m\u001b[1;33m.\u001b[0m\u001b[0mname\u001b[0m \u001b[1;33m==\u001b[0m \u001b[1;34m'loc'\u001b[0m \u001b[1;32mand\u001b[0m \u001b[1;32mnot\u001b[0m \u001b[0mraise_missing\u001b[0m\u001b[1;33m)\u001b[0m\u001b[1;33m:\u001b[0m\u001b[1;33m\u001b[0m\u001b[1;33m\u001b[0m\u001b[0m\n\u001b[0;32m   1251\u001b[0m                 \u001b[0mnot_found\u001b[0m \u001b[1;33m=\u001b[0m \u001b[0mlist\u001b[0m\u001b[1;33m(\u001b[0m\u001b[0mset\u001b[0m\u001b[1;33m(\u001b[0m\u001b[0mkey\u001b[0m\u001b[1;33m)\u001b[0m \u001b[1;33m-\u001b[0m \u001b[0mset\u001b[0m\u001b[1;33m(\u001b[0m\u001b[0max\u001b[0m\u001b[1;33m)\u001b[0m\u001b[1;33m)\u001b[0m\u001b[1;33m\u001b[0m\u001b[1;33m\u001b[0m\u001b[0m\n\u001b[1;32m-> 1252\u001b[1;33m                 \u001b[1;32mraise\u001b[0m \u001b[0mKeyError\u001b[0m\u001b[1;33m(\u001b[0m\u001b[1;34m\"{} not in index\"\u001b[0m\u001b[1;33m.\u001b[0m\u001b[0mformat\u001b[0m\u001b[1;33m(\u001b[0m\u001b[0mnot_found\u001b[0m\u001b[1;33m)\u001b[0m\u001b[1;33m)\u001b[0m\u001b[1;33m\u001b[0m\u001b[1;33m\u001b[0m\u001b[0m\n\u001b[0m\u001b[0;32m   1253\u001b[0m \u001b[1;33m\u001b[0m\u001b[0m\n\u001b[0;32m   1254\u001b[0m             \u001b[1;31m# we skip the warning on Categorical/Interval\u001b[0m\u001b[1;33m\u001b[0m\u001b[1;33m\u001b[0m\u001b[1;33m\u001b[0m\u001b[0m\n",
      "\u001b[1;31mKeyError\u001b[0m: \"['Longitude', 'TickTimestamp'] not in index\""
     ]
    }
   ],
   "source": [
    "# train, test = train_test_split(my_t[cols_to_analize], test_size=0.2)\n",
    "\n",
    "# print(train.shape)\n",
    "# print(test.shape)"
   ]
  },
  {
   "cell_type": "markdown",
   "metadata": {},
   "source": [
    "All unique TrackOrigin values:"
   ]
  },
  {
   "cell_type": "code",
   "execution_count": 18,
   "metadata": {},
   "outputs": [
    {
     "data": {
      "text/plain": [
       "array(['OriginalDriver', 'Passanger', 'Taxi'], dtype=object)"
      ]
     },
     "execution_count": 18,
     "metadata": {},
     "output_type": "execute_result"
    }
   ],
   "source": [
    "my_t['TrackOrigin'].unique()"
   ]
  },
  {
   "cell_type": "code",
   "execution_count": 17,
   "metadata": {},
   "outputs": [],
   "source": [
    "# sns.pairplot(my_t, hue='ispassanger', size=3)"
   ]
  },
  {
   "cell_type": "code",
   "execution_count": 33,
   "metadata": {},
   "outputs": [
    {
     "data": {
      "text/plain": [
       "<matplotlib.axes._subplots.AxesSubplot at 0x27a0a291b70>"
      ]
     },
     "execution_count": 33,
     "metadata": {},
     "output_type": "execute_result"
    },
    {
     "data": {
      "image/png": "[encoded data removed]",
      "text/plain": [
       "<Figure size 432x288 with 1 Axes>"
      ]
     },
     "metadata": {
      "needs_background": "light"
     },
     "output_type": "display_data"
    }
   ],
   "source": [
    "sns.heatmap(my_t.isnull(),yticklabels=False,cbar=False,cmap='viridis')"
   ]
  },
  {
   "cell_type": "code",
   "execution_count": 19,
   "metadata": {},
   "outputs": [
    {
     "data": {
      "text/plain": [
       "ispassanger              0\n",
       "TrackOrigin              0\n",
       "AccelerationZOriginal    0\n",
       "AccelerationYOriginal    0\n",
       "AccelerationXOriginal    0\n",
       "TickTimestamp            0\n",
       "Deceleration             0\n",
       "Acceleration             0\n",
       "Height                   0\n",
       "PointDate                0\n",
       "Longitude                0\n",
       "Latitude                 0\n",
       "Speed                    0\n",
       "IncomingTrackId          0\n",
       "IncomingTrackId          0\n",
       "dtype: int64"
      ]
     },
     "execution_count": 19,
     "metadata": {},
     "output_type": "execute_result"
    }
   ],
   "source": [
    "my_t.isnull().sum().sort_values(ascending=False)"
   ]
  },
  {
   "cell_type": "code",
   "execution_count": 34,
   "metadata": {},
   "outputs": [
    {
     "ename": "NameError",
     "evalue": "name 'train' is not defined",
     "output_type": "error",
     "traceback": [
      "\u001b[1;31m---------------------------------------------------------------------------\u001b[0m",
      "\u001b[1;31mNameError\u001b[0m                                 Traceback (most recent call last)",
      "\u001b[1;32m<ipython-input-34-a4f094328926>\u001b[0m in \u001b[0;36m<module>\u001b[1;34m\u001b[0m\n\u001b[0;32m      1\u001b[0m \u001b[0msns\u001b[0m\u001b[1;33m.\u001b[0m\u001b[0mset_style\u001b[0m\u001b[1;33m(\u001b[0m\u001b[1;34m'whitegrid'\u001b[0m\u001b[1;33m)\u001b[0m\u001b[1;33m\u001b[0m\u001b[1;33m\u001b[0m\u001b[0m\n\u001b[1;32m----> 2\u001b[1;33m \u001b[0msns\u001b[0m\u001b[1;33m.\u001b[0m\u001b[0mcountplot\u001b[0m\u001b[1;33m(\u001b[0m\u001b[0mx\u001b[0m\u001b[1;33m=\u001b[0m\u001b[1;34m'ispassanger'\u001b[0m\u001b[1;33m,\u001b[0m\u001b[0mdata\u001b[0m\u001b[1;33m=\u001b[0m\u001b[0mtrain\u001b[0m\u001b[1;33m,\u001b[0m\u001b[0mpalette\u001b[0m\u001b[1;33m=\u001b[0m\u001b[1;34m'RdBu_r'\u001b[0m\u001b[1;33m)\u001b[0m\u001b[1;33m\u001b[0m\u001b[1;33m\u001b[0m\u001b[0m\n\u001b[0m",
      "\u001b[1;31mNameError\u001b[0m: name 'train' is not defined"
     ]
    }
   ],
   "source": [
    "sns.set_style('whitegrid')\n",
    "sns.countplot(x='ispassanger',data=train,palette='RdBu_r')"
   ]
  },
  {
   "cell_type": "code",
   "execution_count": null,
   "metadata": {},
   "outputs": [],
   "source": []
  },
  {
   "cell_type": "code",
   "execution_count": null,
   "metadata": {},
   "outputs": [],
   "source": [
    "# set the background style of the plot \n",
    "sns.set_style('whitegrid') \n",
    "sns.distplot(my_t['Speed'], kde = False, color ='darkred', bins = 30) "
   ]
  },
  {
   "cell_type": "code",
   "execution_count": 22,
   "metadata": {},
   "outputs": [
    {
     "data": {
      "text/plain": [
       "<matplotlib.axes._subplots.AxesSubplot at 0x179e679e978>"
      ]
     },
     "execution_count": 22,
     "metadata": {},
     "output_type": "execute_result"
    },
    {
     "data": {
      "image/png": "[encoded data removed]",
      "text/plain": [
       "<Figure size 432x288 with 1 Axes>"
      ]
     },
     "metadata": {},
     "output_type": "display_data"
    }
   ],
   "source": [
    "# set the background style of the plot \n",
    "sns.set_style('whitegrid') \n",
    "sns.distplot(my_t['Height'], kde = False, color ='darkred', bins = 30) "
   ]
  },
  {
   "cell_type": "code",
   "execution_count": 18,
   "metadata": {},
   "outputs": [
    {
     "data": {
      "text/plain": [
       "<matplotlib.axes._subplots.AxesSubplot at 0x1abe16836a0>"
      ]
     },
     "execution_count": 18,
     "metadata": {},
     "output_type": "execute_result"
    },
    {
     "data": {
      "image/png": "[encoded data removed]",
      "text/plain": [
       "<Figure size 432x288 with 1 Axes>"
      ]
     },
     "metadata": {},
     "output_type": "display_data"
    }
   ],
   "source": [
    "# set the background style of the plot \n",
    "sns.set_style('whitegrid') \n",
    "sns.distplot(my_t['AccelerationXOriginal'], kde = False, color ='darkred', bins = 30) "
   ]
  },
  {
   "cell_type": "code",
   "execution_count": 26,
   "metadata": {},
   "outputs": [
    {
     "data": {
      "text/plain": [
       "<matplotlib.axes._subplots.AxesSubplot at 0x1abd4485cf8>"
      ]
     },
     "execution_count": 26,
     "metadata": {},
     "output_type": "execute_result"
    },
    {
     "data": {
      "image/png": "[encoded data removed]",
      "text/plain": [
       "<Figure size 432x288 with 1 Axes>"
      ]
     },
     "metadata": {},
     "output_type": "display_data"
    }
   ],
   "source": [
    "# set the background style of the plot \n",
    "sns.set_style('whitegrid') \n",
    "sns.distplot(my_t['Acceleration'], kde = False, color ='darkred', bins = 30) "
   ]
  },
  {
   "cell_type": "code",
   "execution_count": null,
   "metadata": {},
   "outputs": [],
   "source": []
  },
  {
   "cell_type": "code",
   "execution_count": 11,
   "metadata": {},
   "outputs": [
    {
     "data": {
      "text/plain": [
       "<seaborn.axisgrid.FacetGrid at 0x2d4aabc6eb8>"
      ]
     },
     "execution_count": 11,
     "metadata": {},
     "output_type": "execute_result"
    },
    {
     "data": {
      "image/png": "[encoded data removed]",
      "text/plain": [
       "<Figure size 360x360 with 1 Axes>"
      ]
     },
     "metadata": {
      "needs_background": "light"
     },
     "output_type": "display_data"
    }
   ],
   "source": [
    "sns.catplot(x=\"os_version\", y=\"IncomingTrackId\", data=my_t[['IncomingTrackId', 'os_version']].iloc[:, [1, 2]])"
   ]
  },
  {
   "cell_type": "code",
   "execution_count": null,
   "metadata": {},
   "outputs": [],
   "source": []
  },
  {
   "cell_type": "code",
   "execution_count": 12,
   "metadata": {},
   "outputs": [
    {
     "data": {
      "text/plain": [
       "<seaborn.axisgrid.FacetGrid at 0x2d656645e48>"
      ]
     },
     "execution_count": 12,
     "metadata": {},
     "output_type": "execute_result"
    },
    {
     "data": {
      "image/png": "[encoded data removed]",
      "text/plain": [
       "<Figure size 360x360 with 1 Axes>"
      ]
     },
     "metadata": {
      "needs_background": "light"
     },
     "output_type": "display_data"
    }
   ],
   "source": [
    "sns.catplot(x=\"os_version\", y=\"Speed\", data=my_t[['Speed', 'os_version']])"
   ]
  },
  {
   "cell_type": "code",
   "execution_count": 13,
   "metadata": {},
   "outputs": [
    {
     "data": {
      "text/plain": [
       "<seaborn.axisgrid.FacetGrid at 0x2d655eaca20>"
      ]
     },
     "execution_count": 13,
     "metadata": {},
     "output_type": "execute_result"
    },
    {
     "data": {
      "image/png": "[encoded data removed]",
      "text/plain": [
       "<Figure size 360x360 with 1 Axes>"
      ]
     },
     "metadata": {
      "needs_background": "light"
     },
     "output_type": "display_data"
    }
   ],
   "source": [
    "sns.catplot(x=\"os_version\", y=\"Latitude\", data=my_t[['Latitude', 'os_version']])"
   ]
  },
  {
   "cell_type": "code",
   "execution_count": 14,
   "metadata": {},
   "outputs": [
    {
     "data": {
      "text/plain": [
       "<seaborn.axisgrid.FacetGrid at 0x2d655c34eb8>"
      ]
     },
     "execution_count": 14,
     "metadata": {},
     "output_type": "execute_result"
    },
    {
     "data": {
      "image/png": "[encoded data removed]",
      "text/plain": [
       "<Figure size 360x360 with 1 Axes>"
      ]
     },
     "metadata": {
      "needs_background": "light"
     },
     "output_type": "display_data"
    }
   ],
   "source": [
    "sns.catplot(x=\"os_version\", y=\"Longitude\", data=my_t[['Longitude', 'os_version']])"
   ]
  },
  {
   "cell_type": "code",
   "execution_count": 64,
   "metadata": {},
   "outputs": [],
   "source": [
    "# sns.catplot(x=\"os_version\", y=\"PointDate\", data=my_t[['PointDate', 'os_version']])"
   ]
  },
  {
   "cell_type": "code",
   "execution_count": 17,
   "metadata": {},
   "outputs": [
    {
     "data": {
      "text/plain": [
       "<seaborn.axisgrid.FacetGrid at 0x2d381d959b0>"
      ]
     },
     "execution_count": 17,
     "metadata": {},
     "output_type": "execute_result"
    },
    {
     "data": {
      "image/png": "[encoded data removed]",
      "text/plain": [
       "<Figure size 360x360 with 1 Axes>"
      ]
     },
     "metadata": {
      "needs_background": "light"
     },
     "output_type": "display_data"
    }
   ],
   "source": [
    "sns.catplot(x=\"os_version\", y=\"Height\", data=my_t[['Height', 'os_version']])"
   ]
  },
  {
   "cell_type": "code",
   "execution_count": 18,
   "metadata": {},
   "outputs": [
    {
     "data": {
      "text/plain": [
       "<seaborn.axisgrid.FacetGrid at 0x2d32710a320>"
      ]
     },
     "execution_count": 18,
     "metadata": {},
     "output_type": "execute_result"
    },
    {
     "data": {
      "image/png": "[encoded data removed]",
      "text/plain": [
       "<Figure size 360x360 with 1 Axes>"
      ]
     },
     "metadata": {
      "needs_background": "light"
     },
     "output_type": "display_data"
    }
   ],
   "source": [
    "sns.catplot(x=\"os_version\", y=\"Acceleration\", data=my_t[['Acceleration', 'os_version']])"
   ]
  },
  {
   "cell_type": "code",
   "execution_count": 19,
   "metadata": {},
   "outputs": [
    {
     "data": {
      "text/plain": [
       "<seaborn.axisgrid.FacetGrid at 0x2d326b0bcc0>"
      ]
     },
     "execution_count": 19,
     "metadata": {},
     "output_type": "execute_result"
    },
    {
     "data": {
      "image/png": "[encoded data removed]",
      "text/plain": [
       "<Figure size 360x360 with 1 Axes>"
      ]
     },
     "metadata": {
      "needs_background": "light"
     },
     "output_type": "display_data"
    }
   ],
   "source": [
    "sns.catplot(x=\"os_version\", y=\"Deceleration\", data=my_t[['Deceleration', 'os_version']])"
   ]
  },
  {
   "cell_type": "code",
   "execution_count": 20,
   "metadata": {},
   "outputs": [
    {
     "data": {
      "text/plain": [
       "<seaborn.axisgrid.FacetGrid at 0x2d379b3d470>"
      ]
     },
     "execution_count": 20,
     "metadata": {},
     "output_type": "execute_result"
    },
    {
     "data": {
      "image/png": "[encoded data removed]",
      "text/plain": [
       "<Figure size 360x360 with 1 Axes>"
      ]
     },
     "metadata": {
      "needs_background": "light"
     },
     "output_type": "display_data"
    }
   ],
   "source": [
    "sns.catplot(x=\"os_version\", y=\"TickTimestamp\", data=my_t[['TickTimestamp', 'os_version']])"
   ]
  },
  {
   "cell_type": "code",
   "execution_count": 21,
   "metadata": {},
   "outputs": [
    {
     "data": {
      "text/plain": [
       "<seaborn.axisgrid.FacetGrid at 0x2d491c60828>"
      ]
     },
     "execution_count": 21,
     "metadata": {},
     "output_type": "execute_result"
    },
    {
     "data": {
      "image/png": "[encoded data removed]",
      "text/plain": [
       "<Figure size 360x360 with 1 Axes>"
      ]
     },
     "metadata": {
      "needs_background": "light"
     },
     "output_type": "display_data"
    }
   ],
   "source": [
    "sns.catplot(x=\"os_version\", y=\"AccelerationXOriginal\", data=my_t[['AccelerationXOriginal', 'os_version']])"
   ]
  },
  {
   "cell_type": "code",
   "execution_count": 22,
   "metadata": {},
   "outputs": [
    {
     "data": {
      "text/plain": [
       "<seaborn.axisgrid.FacetGrid at 0x2d4a99b24a8>"
      ]
     },
     "execution_count": 22,
     "metadata": {},
     "output_type": "execute_result"
    },
    {
     "data": {
      "image/png": "[encoded data removed]",
      "text/plain": [
       "<Figure size 360x360 with 1 Axes>"
      ]
     },
     "metadata": {
      "needs_background": "light"
     },
     "output_type": "display_data"
    }
   ],
   "source": [
    "sns.catplot(x=\"os_version\", y=\"AccelerationYOriginal\", data=my_t[['AccelerationYOriginal', 'os_version']])"
   ]
  },
  {
   "cell_type": "code",
   "execution_count": 7,
   "metadata": {},
   "outputs": [
    {
     "data": {
      "text/plain": [
       "<seaborn.axisgrid.FacetGrid at 0x1c042a41be0>"
      ]
     },
     "execution_count": 7,
     "metadata": {},
     "output_type": "execute_result"
    },
    {
     "data": {
      "image/png": "[encoded data removed]",
      "text/plain": [
       "<Figure size 360x360 with 1 Axes>"
      ]
     },
     "metadata": {
      "needs_background": "light"
     },
     "output_type": "display_data"
    }
   ],
   "source": [
    "sns.catplot(x=\"os_version\", y=\"AccelerationZOriginal\", data=my_t[['AccelerationZOriginal', 'os_version']])"
   ]
  },
  {
   "cell_type": "code",
   "execution_count": 65,
   "metadata": {},
   "outputs": [],
   "source": [
    "# my_t.loc[my_t['os_version'] == 'iOS', 'AccelerationZOriginal'] *= 9.81\n",
    "# print (my_t[['AccelerationZOriginal', 'os_version']])"
   ]
  },
  {
   "cell_type": "code",
   "execution_count": 66,
   "metadata": {},
   "outputs": [],
   "source": [
    "# sns.catplot(x=\"os_version\", y=\"AccelerationZOriginal\", data=my_t[['AccelerationZOriginal', 'os_version']])"
   ]
  },
  {
   "cell_type": "code",
   "execution_count": 8,
   "metadata": {},
   "outputs": [],
   "source": [
    "my_t['AccelerationZOriginal_zscore'] = (my_t.AccelerationZOriginal - my_t.AccelerationZOriginal.mean())/my_t.AccelerationZOriginal.std(ddof=0)\n",
    "# my_t['AccelerationZOriginal_zscore']"
   ]
  },
  {
   "cell_type": "code",
   "execution_count": 9,
   "metadata": {},
   "outputs": [
    {
     "data": {
      "text/plain": [
       "<seaborn.axisgrid.FacetGrid at 0x1c062c069b0>"
      ]
     },
     "execution_count": 9,
     "metadata": {},
     "output_type": "execute_result"
    },
    {
     "data": {
      "image/png": "[encoded data removed]",
      "text/plain": [
       "<Figure size 360x360 with 1 Axes>"
      ]
     },
     "metadata": {
      "needs_background": "light"
     },
     "output_type": "display_data"
    }
   ],
   "source": [
    "sns.catplot(x=\"os_version\", y=\"AccelerationZOriginal_zscore\", data=my_t[['AccelerationZOriginal_zscore', 'os_version']])"
   ]
  },
  {
   "cell_type": "markdown",
   "metadata": {},
   "source": [
    "# Lets normalize!"
   ]
  },
  {
   "cell_type": "code",
   "execution_count": 12,
   "metadata": {},
   "outputs": [
    {
     "name": "stdout",
     "output_type": "stream",
     "text": [
      "['PointDate', 'TrackOrigin']\n",
      "['IncomingTrackId', 'Speed', 'Latitude', 'Height', 'Acceleration', 'Deceleration', 'AccelerationXOriginal', 'AccelerationYOriginal', 'AccelerationZOriginal']\n"
     ]
    }
   ],
   "source": [
    "categorical_columns = [c for c in my_t.columns if my_t[c].dtype.name == 'object']\n",
    "numerical_columns   = [c for c in my_t.columns if my_t[c].dtype.name != 'object']\n",
    "numerical_columns.remove('ispassanger')\n",
    "print(categorical_columns)\n",
    "print(numerical_columns)"
   ]
  },
  {
   "cell_type": "code",
   "execution_count": 13,
   "metadata": {},
   "outputs": [
    {
     "name": "stdout",
     "output_type": "stream",
     "text": [
      "['2019-10-17 15:35:23.0000000 +03:00' '2019-10-17 15:35:34.0000000 +03:00'\n",
      " '2019-10-17 15:37:28.0000000 +03:00' ...\n",
      " '2019-10-23 12:34:44.0000000 +04:00' '2019-10-23 12:34:45.0000000 +04:00'\n",
      " '2019-10-23 12:34:46.0000000 +04:00']\n",
      "['OriginalDriver' 'Passanger' 'Taxi']\n"
     ]
    }
   ],
   "source": [
    "for c in categorical_columns:\n",
    "    print(my_t[c].unique())"
   ]
  },
  {
   "cell_type": "code",
   "execution_count": 14,
   "metadata": {},
   "outputs": [
    {
     "data": {
      "text/html": [
       "<div>\n",
       "<style scoped>\n",
       "    .dataframe tbody tr th:only-of-type {\n",
       "        vertical-align: middle;\n",
       "    }\n",
       "\n",
       "    .dataframe tbody tr th {\n",
       "        vertical-align: top;\n",
       "    }\n",
       "\n",
       "    .dataframe thead th {\n",
       "        text-align: right;\n",
       "    }\n",
       "</style>\n",
       "<table border=\"1\" class=\"dataframe\">\n",
       "  <thead>\n",
       "    <tr style=\"text-align: right;\">\n",
       "      <th></th>\n",
       "      <th>IncomingTrackId</th>\n",
       "      <th>Speed</th>\n",
       "      <th>Latitude</th>\n",
       "      <th>Height</th>\n",
       "      <th>Acceleration</th>\n",
       "      <th>Deceleration</th>\n",
       "      <th>AccelerationXOriginal</th>\n",
       "      <th>AccelerationYOriginal</th>\n",
       "      <th>AccelerationZOriginal</th>\n",
       "    </tr>\n",
       "  </thead>\n",
       "  <tbody>\n",
       "    <tr>\n",
       "      <th>count</th>\n",
       "      <td>3.822689e+06</td>\n",
       "      <td>3.822689e+06</td>\n",
       "      <td>3.822689e+06</td>\n",
       "      <td>3.822689e+06</td>\n",
       "      <td>3.822689e+06</td>\n",
       "      <td>3.822689e+06</td>\n",
       "      <td>3.822689e+06</td>\n",
       "      <td>3.822689e+06</td>\n",
       "      <td>3.822689e+06</td>\n",
       "    </tr>\n",
       "    <tr>\n",
       "      <th>mean</th>\n",
       "      <td>-1.359237e-13</td>\n",
       "      <td>-5.343200e-13</td>\n",
       "      <td>-3.101774e-13</td>\n",
       "      <td>-1.227142e-14</td>\n",
       "      <td>-2.693514e-15</td>\n",
       "      <td>2.428010e-13</td>\n",
       "      <td>-1.568428e-14</td>\n",
       "      <td>-2.918194e-14</td>\n",
       "      <td>7.152220e-14</td>\n",
       "    </tr>\n",
       "    <tr>\n",
       "      <th>std</th>\n",
       "      <td>1.000000e+00</td>\n",
       "      <td>1.000000e+00</td>\n",
       "      <td>1.000000e+00</td>\n",
       "      <td>1.000000e+00</td>\n",
       "      <td>1.000000e+00</td>\n",
       "      <td>1.000000e+00</td>\n",
       "      <td>1.000000e+00</td>\n",
       "      <td>1.000000e+00</td>\n",
       "      <td>1.000000e+00</td>\n",
       "    </tr>\n",
       "    <tr>\n",
       "      <th>min</th>\n",
       "      <td>-3.453707e+00</td>\n",
       "      <td>-8.625992e-01</td>\n",
       "      <td>-2.095684e+00</td>\n",
       "      <td>-3.686349e+00</td>\n",
       "      <td>-3.040488e+01</td>\n",
       "      <td>-3.253421e+01</td>\n",
       "      <td>-2.687885e+01</td>\n",
       "      <td>-1.781270e+01</td>\n",
       "      <td>-1.344837e+01</td>\n",
       "    </tr>\n",
       "    <tr>\n",
       "      <th>25%</th>\n",
       "      <td>-1.440812e-01</td>\n",
       "      <td>-8.600586e-01</td>\n",
       "      <td>-8.554802e-01</td>\n",
       "      <td>-5.885655e-01</td>\n",
       "      <td>-8.113991e-02</td>\n",
       "      <td>-1.030642e-01</td>\n",
       "      <td>-1.795231e-01</td>\n",
       "      <td>-3.718626e-01</td>\n",
       "      <td>-4.035180e-01</td>\n",
       "    </tr>\n",
       "    <tr>\n",
       "      <th>50%</th>\n",
       "      <td>-5.999127e-02</td>\n",
       "      <td>-4.613654e-01</td>\n",
       "      <td>5.744294e-01</td>\n",
       "      <td>-1.024264e-01</td>\n",
       "      <td>-8.113991e-02</td>\n",
       "      <td>-1.030642e-01</td>\n",
       "      <td>-5.537089e-02</td>\n",
       "      <td>-1.431376e-01</td>\n",
       "      <td>-2.198127e-01</td>\n",
       "    </tr>\n",
       "    <tr>\n",
       "      <th>75%</th>\n",
       "      <td>9.360261e-02</td>\n",
       "      <td>7.087255e-01</td>\n",
       "      <td>6.606778e-01</td>\n",
       "      <td>2.441756e-01</td>\n",
       "      <td>-8.113991e-02</td>\n",
       "      <td>-1.030642e-01</td>\n",
       "      <td>5.569406e-02</td>\n",
       "      <td>2.589308e-02</td>\n",
       "      <td>-1.301652e-02</td>\n",
       "    </tr>\n",
       "    <tr>\n",
       "      <th>max</th>\n",
       "      <td>3.495149e+00</td>\n",
       "      <td>6.060875e+00</td>\n",
       "      <td>1.043311e+00</td>\n",
       "      <td>1.896468e+01</td>\n",
       "      <td>3.521833e+01</td>\n",
       "      <td>3.228169e+01</td>\n",
       "      <td>2.343636e+01</td>\n",
       "      <td>1.251143e+01</td>\n",
       "      <td>1.410654e+01</td>\n",
       "    </tr>\n",
       "  </tbody>\n",
       "</table>\n",
       "</div>"
      ],
      "text/plain": [
       "       IncomingTrackId         Speed      Latitude        Height  \\\n",
       "count     3.822689e+06  3.822689e+06  3.822689e+06  3.822689e+06   \n",
       "mean     -1.359237e-13 -5.343200e-13 -3.101774e-13 -1.227142e-14   \n",
       "std       1.000000e+00  1.000000e+00  1.000000e+00  1.000000e+00   \n",
       "min      -3.453707e+00 -8.625992e-01 -2.095684e+00 -3.686349e+00   \n",
       "25%      -1.440812e-01 -8.600586e-01 -8.554802e-01 -5.885655e-01   \n",
       "50%      -5.999127e-02 -4.613654e-01  5.744294e-01 -1.024264e-01   \n",
       "75%       9.360261e-02  7.087255e-01  6.606778e-01  2.441756e-01   \n",
       "max       3.495149e+00  6.060875e+00  1.043311e+00  1.896468e+01   \n",
       "\n",
       "       Acceleration  Deceleration  AccelerationXOriginal  \\\n",
       "count  3.822689e+06  3.822689e+06           3.822689e+06   \n",
       "mean  -2.693514e-15  2.428010e-13          -1.568428e-14   \n",
       "std    1.000000e+00  1.000000e+00           1.000000e+00   \n",
       "min   -3.040488e+01 -3.253421e+01          -2.687885e+01   \n",
       "25%   -8.113991e-02 -1.030642e-01          -1.795231e-01   \n",
       "50%   -8.113991e-02 -1.030642e-01          -5.537089e-02   \n",
       "75%   -8.113991e-02 -1.030642e-01           5.569406e-02   \n",
       "max    3.521833e+01  3.228169e+01           2.343636e+01   \n",
       "\n",
       "       AccelerationYOriginal  AccelerationZOriginal  \n",
       "count           3.822689e+06           3.822689e+06  \n",
       "mean           -2.918194e-14           7.152220e-14  \n",
       "std             1.000000e+00           1.000000e+00  \n",
       "min            -1.781270e+01          -1.344837e+01  \n",
       "25%            -3.718626e-01          -4.035180e-01  \n",
       "50%            -1.431376e-01          -2.198127e-01  \n",
       "75%             2.589308e-02          -1.301652e-02  \n",
       "max             1.251143e+01           1.410654e+01  "
      ]
     },
     "execution_count": 14,
     "metadata": {},
     "output_type": "execute_result"
    }
   ],
   "source": [
    "data_numerical = my_t[numerical_columns]\n",
    "data_numerical = (data_numerical - data_numerical.mean()) / data_numerical.std()\n",
    "data_numerical.describe()"
   ]
  },
  {
   "cell_type": "code",
   "execution_count": 15,
   "metadata": {},
   "outputs": [
    {
     "data": {
      "text/html": [
       "<div>\n",
       "<style scoped>\n",
       "    .dataframe tbody tr th:only-of-type {\n",
       "        vertical-align: middle;\n",
       "    }\n",
       "\n",
       "    .dataframe tbody tr th {\n",
       "        vertical-align: top;\n",
       "    }\n",
       "\n",
       "    .dataframe thead th {\n",
       "        text-align: right;\n",
       "    }\n",
       "</style>\n",
       "<table border=\"1\" class=\"dataframe\">\n",
       "  <thead>\n",
       "    <tr style=\"text-align: right;\">\n",
       "      <th></th>\n",
       "      <th>IncomingTrackId</th>\n",
       "      <th>Speed</th>\n",
       "      <th>Latitude</th>\n",
       "      <th>Height</th>\n",
       "      <th>Acceleration</th>\n",
       "      <th>Deceleration</th>\n",
       "      <th>AccelerationXOriginal</th>\n",
       "      <th>AccelerationYOriginal</th>\n",
       "      <th>AccelerationZOriginal</th>\n",
       "      <th>ispassanger</th>\n",
       "    </tr>\n",
       "  </thead>\n",
       "  <tbody>\n",
       "    <tr>\n",
       "      <th>IncomingTrackId</th>\n",
       "      <td>1.000000</td>\n",
       "      <td>0.002102</td>\n",
       "      <td>-0.004071</td>\n",
       "      <td>-0.005549</td>\n",
       "      <td>-0.052157</td>\n",
       "      <td>-0.046804</td>\n",
       "      <td>0.034443</td>\n",
       "      <td>-0.015440</td>\n",
       "      <td>-0.056028</td>\n",
       "      <td>-0.012879</td>\n",
       "    </tr>\n",
       "    <tr>\n",
       "      <th>Speed</th>\n",
       "      <td>0.002102</td>\n",
       "      <td>1.000000</td>\n",
       "      <td>-0.034040</td>\n",
       "      <td>0.031186</td>\n",
       "      <td>0.091160</td>\n",
       "      <td>0.097190</td>\n",
       "      <td>0.024746</td>\n",
       "      <td>0.032559</td>\n",
       "      <td>0.019935</td>\n",
       "      <td>0.171790</td>\n",
       "    </tr>\n",
       "    <tr>\n",
       "      <th>Latitude</th>\n",
       "      <td>-0.004071</td>\n",
       "      <td>-0.034040</td>\n",
       "      <td>1.000000</td>\n",
       "      <td>0.179127</td>\n",
       "      <td>0.040839</td>\n",
       "      <td>0.023996</td>\n",
       "      <td>-0.026691</td>\n",
       "      <td>0.046991</td>\n",
       "      <td>0.014901</td>\n",
       "      <td>-0.170309</td>\n",
       "    </tr>\n",
       "    <tr>\n",
       "      <th>Height</th>\n",
       "      <td>-0.005549</td>\n",
       "      <td>0.031186</td>\n",
       "      <td>0.179127</td>\n",
       "      <td>1.000000</td>\n",
       "      <td>0.005971</td>\n",
       "      <td>0.008611</td>\n",
       "      <td>0.035961</td>\n",
       "      <td>0.070371</td>\n",
       "      <td>0.082406</td>\n",
       "      <td>-0.037993</td>\n",
       "    </tr>\n",
       "    <tr>\n",
       "      <th>Acceleration</th>\n",
       "      <td>-0.052157</td>\n",
       "      <td>0.091160</td>\n",
       "      <td>0.040839</td>\n",
       "      <td>0.005971</td>\n",
       "      <td>1.000000</td>\n",
       "      <td>0.725050</td>\n",
       "      <td>0.122529</td>\n",
       "      <td>0.051841</td>\n",
       "      <td>0.023492</td>\n",
       "      <td>0.008777</td>\n",
       "    </tr>\n",
       "    <tr>\n",
       "      <th>Deceleration</th>\n",
       "      <td>-0.046804</td>\n",
       "      <td>0.097190</td>\n",
       "      <td>0.023996</td>\n",
       "      <td>0.008611</td>\n",
       "      <td>0.725050</td>\n",
       "      <td>1.000000</td>\n",
       "      <td>0.129884</td>\n",
       "      <td>0.043225</td>\n",
       "      <td>0.070855</td>\n",
       "      <td>0.034770</td>\n",
       "    </tr>\n",
       "    <tr>\n",
       "      <th>AccelerationXOriginal</th>\n",
       "      <td>0.034443</td>\n",
       "      <td>0.024746</td>\n",
       "      <td>-0.026691</td>\n",
       "      <td>0.035961</td>\n",
       "      <td>0.122529</td>\n",
       "      <td>0.129884</td>\n",
       "      <td>1.000000</td>\n",
       "      <td>0.006041</td>\n",
       "      <td>0.010421</td>\n",
       "      <td>0.039196</td>\n",
       "    </tr>\n",
       "    <tr>\n",
       "      <th>AccelerationYOriginal</th>\n",
       "      <td>-0.015440</td>\n",
       "      <td>0.032559</td>\n",
       "      <td>0.046991</td>\n",
       "      <td>0.070371</td>\n",
       "      <td>0.051841</td>\n",
       "      <td>0.043225</td>\n",
       "      <td>0.006041</td>\n",
       "      <td>1.000000</td>\n",
       "      <td>0.192393</td>\n",
       "      <td>0.075533</td>\n",
       "    </tr>\n",
       "    <tr>\n",
       "      <th>AccelerationZOriginal</th>\n",
       "      <td>-0.056028</td>\n",
       "      <td>0.019935</td>\n",
       "      <td>0.014901</td>\n",
       "      <td>0.082406</td>\n",
       "      <td>0.023492</td>\n",
       "      <td>0.070855</td>\n",
       "      <td>0.010421</td>\n",
       "      <td>0.192393</td>\n",
       "      <td>1.000000</td>\n",
       "      <td>0.070895</td>\n",
       "    </tr>\n",
       "    <tr>\n",
       "      <th>ispassanger</th>\n",
       "      <td>-0.012879</td>\n",
       "      <td>0.171790</td>\n",
       "      <td>-0.170309</td>\n",
       "      <td>-0.037993</td>\n",
       "      <td>0.008777</td>\n",
       "      <td>0.034770</td>\n",
       "      <td>0.039196</td>\n",
       "      <td>0.075533</td>\n",
       "      <td>0.070895</td>\n",
       "      <td>1.000000</td>\n",
       "    </tr>\n",
       "  </tbody>\n",
       "</table>\n",
       "</div>"
      ],
      "text/plain": [
       "                       IncomingTrackId     Speed  Latitude    Height  \\\n",
       "IncomingTrackId               1.000000  0.002102 -0.004071 -0.005549   \n",
       "Speed                         0.002102  1.000000 -0.034040  0.031186   \n",
       "Latitude                     -0.004071 -0.034040  1.000000  0.179127   \n",
       "Height                       -0.005549  0.031186  0.179127  1.000000   \n",
       "Acceleration                 -0.052157  0.091160  0.040839  0.005971   \n",
       "Deceleration                 -0.046804  0.097190  0.023996  0.008611   \n",
       "AccelerationXOriginal         0.034443  0.024746 -0.026691  0.035961   \n",
       "AccelerationYOriginal        -0.015440  0.032559  0.046991  0.070371   \n",
       "AccelerationZOriginal        -0.056028  0.019935  0.014901  0.082406   \n",
       "ispassanger                  -0.012879  0.171790 -0.170309 -0.037993   \n",
       "\n",
       "                       Acceleration  Deceleration  AccelerationXOriginal  \\\n",
       "IncomingTrackId           -0.052157     -0.046804               0.034443   \n",
       "Speed                      0.091160      0.097190               0.024746   \n",
       "Latitude                   0.040839      0.023996              -0.026691   \n",
       "Height                     0.005971      0.008611               0.035961   \n",
       "Acceleration               1.000000      0.725050               0.122529   \n",
       "Deceleration               0.725050      1.000000               0.129884   \n",
       "AccelerationXOriginal      0.122529      0.129884               1.000000   \n",
       "AccelerationYOriginal      0.051841      0.043225               0.006041   \n",
       "AccelerationZOriginal      0.023492      0.070855               0.010421   \n",
       "ispassanger                0.008777      0.034770               0.039196   \n",
       "\n",
       "                       AccelerationYOriginal  AccelerationZOriginal  \\\n",
       "IncomingTrackId                    -0.015440              -0.056028   \n",
       "Speed                               0.032559               0.019935   \n",
       "Latitude                            0.046991               0.014901   \n",
       "Height                              0.070371               0.082406   \n",
       "Acceleration                        0.051841               0.023492   \n",
       "Deceleration                        0.043225               0.070855   \n",
       "AccelerationXOriginal               0.006041               0.010421   \n",
       "AccelerationYOriginal               1.000000               0.192393   \n",
       "AccelerationZOriginal               0.192393               1.000000   \n",
       "ispassanger                         0.075533               0.070895   \n",
       "\n",
       "                       ispassanger  \n",
       "IncomingTrackId          -0.012879  \n",
       "Speed                     0.171790  \n",
       "Latitude                 -0.170309  \n",
       "Height                   -0.037993  \n",
       "Acceleration              0.008777  \n",
       "Deceleration              0.034770  \n",
       "AccelerationXOriginal     0.039196  \n",
       "AccelerationYOriginal     0.075533  \n",
       "AccelerationZOriginal     0.070895  \n",
       "ispassanger               1.000000  "
      ]
     },
     "execution_count": 15,
     "metadata": {},
     "output_type": "execute_result"
    }
   ],
   "source": [
    "my_t.corr()"
   ]
  },
  {
   "cell_type": "code",
   "execution_count": 16,
   "metadata": {},
   "outputs": [
    {
     "name": "stdout",
     "output_type": "stream",
     "text": [
      "(3822689, 10)\n",
      "Index(['IncomingTrackId', 'Speed', 'Latitude', 'Height', 'Acceleration',\n",
      "       'Deceleration', 'AccelerationXOriginal', 'AccelerationYOriginal',\n",
      "       'AccelerationZOriginal', 'ispassanger'],\n",
      "      dtype='object')\n"
     ]
    }
   ],
   "source": [
    "my_t = pd.concat((data_numerical, my_t['ispassanger']), axis=1)\n",
    "my_t = pd.DataFrame(my_t, dtype=float)\n",
    "print (my_t.shape)\n",
    "print (my_t.columns)"
   ]
  },
  {
   "cell_type": "code",
   "execution_count": 17,
   "metadata": {},
   "outputs": [],
   "source": [
    "# model = ExtraTreesClassifier()\n",
    "# model.fit(X, y)\n",
    "# # display the relative importance of each attribute\n",
    "# print(model.feature_importances_)"
   ]
  },
  {
   "cell_type": "code",
   "execution_count": 18,
   "metadata": {},
   "outputs": [
    {
     "name": "stdout",
     "output_type": "stream",
     "text": [
      "{'Deceleration', 'Height', 'AccelerationYOriginal', 'AccelerationZOriginal', 'ispassanger', 'Acceleration', 'AccelerationXOriginal', 'IncomingTrackId', 'Speed', 'Latitude'}\n"
     ]
    }
   ],
   "source": [
    "my_cols = set(my_t.columns)\n",
    "print(my_cols)"
   ]
  },
  {
   "cell_type": "code",
   "execution_count": null,
   "metadata": {},
   "outputs": [],
   "source": []
  },
  {
   "cell_type": "code",
   "execution_count": null,
   "metadata": {},
   "outputs": [],
   "source": []
  },
  {
   "cell_type": "code",
   "execution_count": 19,
   "metadata": {},
   "outputs": [],
   "source": [
    "my_cols = set(my_t.columns)\n",
    "# my_cols.remove('TrackOrigin')\n",
    "# my_cols.remove('os_version')\n",
    "# my_cols.remove('OriginalTrackOrigin')\n",
    "# my_cols.remove('PointDate')\n",
    "my_cols.remove('ispassanger')"
   ]
  },
  {
   "cell_type": "code",
   "execution_count": 20,
   "metadata": {},
   "outputs": [
    {
     "name": "stdout",
     "output_type": "stream",
     "text": [
      "Index(['Deceleration', 'Height', 'AccelerationYOriginal',\n",
      "       'AccelerationZOriginal', 'Acceleration', 'AccelerationXOriginal',\n",
      "       'IncomingTrackId', 'Speed', 'Latitude'],\n",
      "      dtype='object')\n"
     ]
    }
   ],
   "source": [
    "y = my_t['ispassanger']\n",
    "X = my_t[my_cols]\n",
    "X_train, X_test, y_train, y_test = train_test_split(X, y, stratify=y, test_size=0.2)\n",
    "feature_names = X.columns\n",
    "print(feature_names)"
   ]
  },
  {
   "cell_type": "code",
   "execution_count": 21,
   "metadata": {},
   "outputs": [
    {
     "name": "stdout",
     "output_type": "stream",
     "text": [
      "3058151 764538\n"
     ]
    }
   ],
   "source": [
    "N_train, _ = X_train.shape \n",
    "N_test,  _ = X_test.shape \n",
    "print(N_train, N_test)"
   ]
  },
  {
   "cell_type": "markdown",
   "metadata": {},
   "source": [
    "KNN"
   ]
  },
  {
   "cell_type": "code",
   "execution_count": null,
   "metadata": {},
   "outputs": [],
   "source": [
    "knn = KNeighborsClassifier(n_jobs=10)\n",
    "knn.fit(X_train, y_train)"
   ]
  },
  {
   "cell_type": "code",
   "execution_count": null,
   "metadata": {},
   "outputs": [],
   "source": [
    "y_train_predict = knn.predict(X_train)\n",
    "y_test_predict = knn.predict(X_test)\n",
    "\n",
    "err_train = np.mean(y_train != y_train_predict)\n",
    "err_test  = np.mean(y_test  != y_test_predict)\n",
    "print(err_train, err_test)"
   ]
  },
  {
   "cell_type": "markdown",
   "metadata": {},
   "source": [
    "RF"
   ]
  },
  {
   "cell_type": "code",
   "execution_count": 24,
   "metadata": {},
   "outputs": [
    {
     "name": "stdout",
     "output_type": "stream",
     "text": [
      "0.0 1.0463835675924545e-05\n"
     ]
    }
   ],
   "source": [
    "rf = ensemble.RandomForestClassifier(n_estimators=100, random_state=11, n_jobs=10)\n",
    "rf.fit(X_train, y_train)\n",
    "\n",
    "err_train = np.mean(y_train != rf.predict(X_train))\n",
    "err_test  = np.mean(y_test  != rf.predict(X_test))\n",
    "print(err_train, err_test)"
   ]
  },
  {
   "cell_type": "code",
   "execution_count": 22,
   "metadata": {},
   "outputs": [
    {
     "name": "stdout",
     "output_type": "stream",
     "text": [
      "CV accuracy score: 100.00%\n"
     ]
    }
   ],
   "source": [
    "# Разделяем на признаки и объекты\n",
    "# X, y = df[cols].copy(), np.asarray(df[\"Churn\"],dtype='int8')\n",
    "\n",
    "# Инициализируем страифицированную разбивку нашего датасета для валидации\n",
    "skf = StratifiedKFold(n_splits=5, shuffle=True, random_state=42)\n",
    "\n",
    "# Инициализируем наш классификатор с дефолтными параметрами\n",
    "rfc = RandomForestClassifier(random_state=42, n_jobs=-1, oob_score=True)\n",
    "\n",
    "# Обучаем на тренировочном датасете\n",
    "results = cross_val_score(rfc, X, y, cv=skf)\n",
    "\n",
    "# Оцениваем долю верных ответов на тестовом датасете\n",
    "print(\"CV accuracy score: {:.2f}%\".format(results.mean()*100))"
   ]
  },
  {
   "cell_type": "code",
   "execution_count": 30,
   "metadata": {},
   "outputs": [
    {
     "data": {
      "text/plain": [
       "0.0    2899056\n",
       "1.0     923633\n",
       "Name: ispassanger, dtype: int64"
      ]
     },
     "execution_count": 30,
     "metadata": {},
     "output_type": "execute_result"
    }
   ],
   "source": [
    "y.value_counts()"
   ]
  },
  {
   "cell_type": "code",
   "execution_count": 39,
   "metadata": {},
   "outputs": [
    {
     "ename": "NameError",
     "evalue": "name 'X_train_circles' is not defined",
     "output_type": "error",
     "traceback": [
      "\u001b[1;31m---------------------------------------------------------------------------\u001b[0m",
      "\u001b[1;31mNameError\u001b[0m                                 Traceback (most recent call last)",
      "\u001b[1;32m<ipython-input-39-bffa44c6a776>\u001b[0m in \u001b[0;36m<module>\u001b[1;34m\u001b[0m\n\u001b[0;32m      1\u001b[0m \u001b[1;31m# Random Forest\u001b[0m\u001b[1;33m\u001b[0m\u001b[1;33m\u001b[0m\u001b[1;33m\u001b[0m\u001b[0m\n\u001b[0;32m      2\u001b[0m \u001b[0mrf\u001b[0m \u001b[1;33m=\u001b[0m \u001b[0mRandomForestClassifier\u001b[0m\u001b[1;33m(\u001b[0m\u001b[0mn_estimators\u001b[0m\u001b[1;33m=\u001b[0m\u001b[1;36m300\u001b[0m\u001b[1;33m,\u001b[0m \u001b[0mrandom_state\u001b[0m\u001b[1;33m=\u001b[0m\u001b[1;36m42\u001b[0m\u001b[1;33m)\u001b[0m\u001b[1;33m\u001b[0m\u001b[1;33m\u001b[0m\u001b[0m\n\u001b[1;32m----> 3\u001b[1;33m \u001b[0mrf\u001b[0m\u001b[1;33m.\u001b[0m\u001b[0mfit\u001b[0m\u001b[1;33m(\u001b[0m\u001b[0mX_train_circles\u001b[0m\u001b[1;33m,\u001b[0m \u001b[0my_train_circles\u001b[0m\u001b[1;33m)\u001b[0m\u001b[1;33m\u001b[0m\u001b[1;33m\u001b[0m\u001b[0m\n\u001b[0m\u001b[0;32m      4\u001b[0m \u001b[1;33m\u001b[0m\u001b[0m\n\u001b[0;32m      5\u001b[0m \u001b[0mx_range\u001b[0m \u001b[1;33m=\u001b[0m \u001b[0mnp\u001b[0m\u001b[1;33m.\u001b[0m\u001b[0mlinspace\u001b[0m\u001b[1;33m(\u001b[0m\u001b[0mX\u001b[0m\u001b[1;33m.\u001b[0m\u001b[0mmin\u001b[0m\u001b[1;33m(\u001b[0m\u001b[1;33m)\u001b[0m\u001b[1;33m,\u001b[0m \u001b[0mX\u001b[0m\u001b[1;33m.\u001b[0m\u001b[0mmax\u001b[0m\u001b[1;33m(\u001b[0m\u001b[1;33m)\u001b[0m\u001b[1;33m,\u001b[0m \u001b[1;36m100\u001b[0m\u001b[1;33m)\u001b[0m\u001b[1;33m\u001b[0m\u001b[1;33m\u001b[0m\u001b[0m\n",
      "\u001b[1;31mNameError\u001b[0m: name 'X_train_circles' is not defined"
     ]
    }
   ],
   "source": [
    "# Random Forest\n",
    "rf = RandomForestClassifier(n_estimators=300, random_state=42)\n",
    "rf.fit(X_train_circles, y_train_circles)\n",
    "\n",
    "x_range = np.linspace(X.min(), X.max(), 100)\n",
    "xx1, xx2 = np.meshgrid(x_range, x_range)\n",
    "y_hat = rf.predict(np.c_[xx1.ravel(), xx2.ravel()])\n",
    "y_hat = y_hat.reshape(xx1.shape)\n",
    "plt.contourf(xx1, xx2, y_hat, alpha=0.2)\n",
    "plt.scatter(X[:,0], X[:,1], c=y, cmap='autumn')\n",
    "plt.title(\"Случайный лес\")\n",
    "plt.show()"
   ]
  },
  {
   "cell_type": "code",
   "execution_count": 32,
   "metadata": {},
   "outputs": [
    {
     "name": "stdout",
     "output_type": "stream",
     "text": [
      "RF:  -1.7841748281676058\n"
     ]
    }
   ],
   "source": [
    "rf = RandomForestClassifier()\n",
    "print('RF: ', cross_val_score(rf, X, y, scoring='neg_log_loss').mean())\n"
   ]
  },
  {
   "cell_type": "code",
   "execution_count": 33,
   "metadata": {},
   "outputs": [
    {
     "data": {
      "text/plain": [
       "RandomForestClassifier(bootstrap=True, class_weight=None, criterion='gini',\n",
       "                       max_depth=None, max_features='auto', max_leaf_nodes=None,\n",
       "                       min_impurity_decrease=0.0, min_impurity_split=None,\n",
       "                       min_samples_leaf=1, min_samples_split=2,\n",
       "                       min_weight_fraction_leaf=0.0, n_estimators=10,\n",
       "                       n_jobs=None, oob_score=False, random_state=None,\n",
       "                       verbose=0, warm_start=False)"
      ]
     },
     "execution_count": 33,
     "metadata": {},
     "output_type": "execute_result"
    }
   ],
   "source": [
    "rf.fit(X, y)"
   ]
  },
  {
   "cell_type": "code",
   "execution_count": 34,
   "metadata": {},
   "outputs": [
    {
     "name": "stdout",
     "output_type": "stream",
     "text": [
      "[0.00837667 0.01427441 0.03072927 0.00642679 0.02300602 0.15630156\n",
      " 0.70015376 0.04300652 0.01772501]\n"
     ]
    }
   ],
   "source": [
    "print(rf.feature_importances_)"
   ]
  },
  {
   "cell_type": "code",
   "execution_count": 47,
   "metadata": {},
   "outputs": [
    {
     "ename": "AttributeError",
     "evalue": "'RandomForestClassifier' object has no attribute 'feature_names'",
     "output_type": "error",
     "traceback": [
      "\u001b[1;31m---------------------------------------------------------------------------\u001b[0m",
      "\u001b[1;31mAttributeError\u001b[0m                            Traceback (most recent call last)",
      "\u001b[1;32m<ipython-input-47-39c55a25d837>\u001b[0m in \u001b[0;36m<module>\u001b[1;34m\u001b[0m\n\u001b[1;32m----> 1\u001b[1;33m \u001b[0mrf\u001b[0m\u001b[1;33m.\u001b[0m\u001b[0mfeature_names\u001b[0m\u001b[1;33m\u001b[0m\u001b[1;33m\u001b[0m\u001b[0m\n\u001b[0m",
      "\u001b[1;31mAttributeError\u001b[0m: 'RandomForestClassifier' object has no attribute 'feature_names'"
     ]
    }
   ],
   "source": [
    "rf.feature_names"
   ]
  },
  {
   "cell_type": "code",
   "execution_count": 40,
   "metadata": {},
   "outputs": [
    {
     "name": "stdout",
     "output_type": "stream",
     "text": [
      "LogisticRegression(C=1.0, class_weight=None, dual=False, fit_intercept=True,\n",
      "                   intercept_scaling=1, l1_ratio=None, max_iter=1000,\n",
      "                   multi_class='warn', n_jobs=-1, penalty='l2',\n",
      "                   random_state=None, solver='warn', tol=0.0001, verbose=0,\n",
      "                   warm_start=False)\n",
      "              precision    recall  f1-score   support\n",
      "\n",
      "         0.0       0.77      0.98      0.87   2899056\n",
      "         1.0       0.65      0.09      0.16    923633\n",
      "\n",
      "    accuracy                           0.77   3822689\n",
      "   macro avg       0.71      0.54      0.52   3822689\n",
      "weighted avg       0.74      0.77      0.70   3822689\n",
      "\n",
      "[[2853087   45969]\n",
      " [ 836575   87058]]\n",
      "CV accuracy score: 76.91%\n"
     ]
    }
   ],
   "source": [
    "modelLR = LogisticRegression(penalty='l2', n_jobs=-1, max_iter=100)\n",
    "modelLR.fit(X, y)\n",
    "print(modelLR)\n",
    "# make predictions\n",
    "expected = y\n",
    "predicted = modelLR.predict(X)\n",
    "# summarize the fit of the model\n",
    "print(metrics.classification_report(expected, predicted))\n",
    "print(metrics.confusion_matrix(expected, predicted))\n",
    "\n",
    "# Обучаем на тренировочном датасете\n",
    "results = cross_val_score(modelLR, X, y, cv=skf)\n",
    "\n",
    "# Оцениваем долю верных ответов на тестовом датасете\n",
    "print(\"CV accuracy score: {:.2f}%\".format(results.mean()*100))"
   ]
  },
  {
   "cell_type": "code",
   "execution_count": 11,
   "metadata": {},
   "outputs": [
    {
     "data": {
      "image/png": "[encoded data removed]",
      "text/plain": [
       "<Figure size 432x288 with 1 Axes>"
      ]
     },
     "metadata": {
      "needs_background": "light"
     },
     "output_type": "display_data"
    }
   ],
   "source": [
    "my_t['os_version'].value_counts().plot.barh();"
   ]
  },
  {
   "cell_type": "code",
   "execution_count": 12,
   "metadata": {},
   "outputs": [
    {
     "name": "stdout",
     "output_type": "stream",
     "text": [
      "{0: 'Android', 1: 'iOS'}\n"
     ]
    },
    {
     "data": {
      "image/png": "[encoded data removed]",
      "text/plain": [
       "<Figure size 432x288 with 1 Axes>"
      ]
     },
     "metadata": {
      "needs_background": "light"
     },
     "output_type": "display_data"
    }
   ],
   "source": [
    "label_encoder = LabelEncoder()\n",
    "\n",
    "mapped_os_version = pd.Series(label_encoder.fit_transform(my_t['os_version']))\n",
    "mapped_os_version.value_counts().plot.barh()\n",
    "print(dict(enumerate(label_encoder.classes_)))"
   ]
  },
  {
   "cell_type": "code",
   "execution_count": null,
   "metadata": {},
   "outputs": [],
   "source": []
  }
 ],
 "metadata": {
  "kernelspec": {
   "display_name": "Python 3",
   "language": "python",
   "name": "python3"
  },
  "language_info": {
   "codemirror_mode": {
    "name": "ipython",
    "version": 3
   },
   "file_extension": ".py",
   "mimetype": "text/x-python",
   "name": "python",
   "nbconvert_exporter": "python",
   "pygments_lexer": "ipython3",
   "version": "3.7.3"
  }
 },
 "nbformat": 4,
 "nbformat_minor": 2
}
